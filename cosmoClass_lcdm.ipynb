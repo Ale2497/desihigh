{
  "cells": [
    {
      "cell_type": "markdown",
      "metadata": {
        "id": "view-in-github",
        "colab_type": "text"
      },
      "source": [
        "<a href=\"https://colab.research.google.com/github/Ale2497/desihigh/blob/master/cosmoClass_lcdm.ipynb\" target=\"_parent\"><img src=\"https://colab.research.google.com/assets/colab-badge.svg\" alt=\"Open In Colab\"/></a>"
      ]
    },
    {
      "cell_type": "code",
      "execution_count": 3,
      "metadata": {
        "id": "bEyWyb5QmyYP"
      },
      "outputs": [],
      "source": [
        "#uncomment to get \n",
        "%matplotlib inline\n",
        "import matplotlib.pyplot as plt\n",
        "from math import pi\n",
        "import seaborn as sns\n",
        "\n",
        "import numpy as np"
      ]
    },
    {
      "cell_type": "code",
      "source": [
        "%%shell\n",
        "\n",
        "git clone https://github.com/lesgourg/class_public.git"
      ],
      "metadata": {
        "colab": {
          "base_uri": "https://localhost:8080/",
          "height": 363
        },
        "id": "8n0Kpntz_yKP",
        "outputId": "419fdae2-657a-4dc5-eb70-004d1c1b47b5"
      },
      "execution_count": 12,
      "outputs": [
        {
          "output_type": "stream",
          "name": "stdout",
          "text": [
            "fatal: destination path 'class_public' already exists and is not an empty directory.\n"
          ]
        },
        {
          "output_type": "error",
          "ename": "CalledProcessError",
          "evalue": "ignored",
          "traceback": [
            "\u001b[0;31m---------------------------------------------------------------------------\u001b[0m",
            "\u001b[0;31mCalledProcessError\u001b[0m                        Traceback (most recent call last)",
            "\u001b[0;32m<ipython-input-12-169fcfc3ff96>\u001b[0m in \u001b[0;36m<cell line: 1>\u001b[0;34m()\u001b[0m\n\u001b[0;32m----> 1\u001b[0;31m \u001b[0mget_ipython\u001b[0m\u001b[0;34m(\u001b[0m\u001b[0;34m)\u001b[0m\u001b[0;34m.\u001b[0m\u001b[0mrun_cell_magic\u001b[0m\u001b[0;34m(\u001b[0m\u001b[0;34m'shell'\u001b[0m\u001b[0;34m,\u001b[0m \u001b[0;34m''\u001b[0m\u001b[0;34m,\u001b[0m \u001b[0;34m'\\ngit clone https://github.com/lesgourg/class_public.git\\n'\u001b[0m\u001b[0;34m)\u001b[0m\u001b[0;34m\u001b[0m\u001b[0;34m\u001b[0m\u001b[0m\n\u001b[0m",
            "\u001b[0;32m/usr/local/lib/python3.9/dist-packages/google/colab/_shell.py\u001b[0m in \u001b[0;36mrun_cell_magic\u001b[0;34m(self, magic_name, line, cell)\u001b[0m\n\u001b[1;32m    332\u001b[0m     \u001b[0;32mif\u001b[0m \u001b[0mline\u001b[0m \u001b[0;32mand\u001b[0m \u001b[0;32mnot\u001b[0m \u001b[0mcell\u001b[0m\u001b[0;34m:\u001b[0m\u001b[0;34m\u001b[0m\u001b[0;34m\u001b[0m\u001b[0m\n\u001b[1;32m    333\u001b[0m       \u001b[0mcell\u001b[0m \u001b[0;34m=\u001b[0m \u001b[0;34m' '\u001b[0m\u001b[0;34m\u001b[0m\u001b[0;34m\u001b[0m\u001b[0m\n\u001b[0;32m--> 334\u001b[0;31m     \u001b[0;32mreturn\u001b[0m \u001b[0msuper\u001b[0m\u001b[0;34m(\u001b[0m\u001b[0;34m)\u001b[0m\u001b[0;34m.\u001b[0m\u001b[0mrun_cell_magic\u001b[0m\u001b[0;34m(\u001b[0m\u001b[0mmagic_name\u001b[0m\u001b[0;34m,\u001b[0m \u001b[0mline\u001b[0m\u001b[0;34m,\u001b[0m \u001b[0mcell\u001b[0m\u001b[0;34m)\u001b[0m\u001b[0;34m\u001b[0m\u001b[0;34m\u001b[0m\u001b[0m\n\u001b[0m\u001b[1;32m    335\u001b[0m \u001b[0;34m\u001b[0m\u001b[0m\n\u001b[1;32m    336\u001b[0m \u001b[0;34m\u001b[0m\u001b[0m\n",
            "\u001b[0;32m/usr/local/lib/python3.9/dist-packages/IPython/core/interactiveshell.py\u001b[0m in \u001b[0;36mrun_cell_magic\u001b[0;34m(self, magic_name, line, cell)\u001b[0m\n\u001b[1;32m   2471\u001b[0m             \u001b[0;32mwith\u001b[0m \u001b[0mself\u001b[0m\u001b[0;34m.\u001b[0m\u001b[0mbuiltin_trap\u001b[0m\u001b[0;34m:\u001b[0m\u001b[0;34m\u001b[0m\u001b[0;34m\u001b[0m\u001b[0m\n\u001b[1;32m   2472\u001b[0m                 \u001b[0margs\u001b[0m \u001b[0;34m=\u001b[0m \u001b[0;34m(\u001b[0m\u001b[0mmagic_arg_s\u001b[0m\u001b[0;34m,\u001b[0m \u001b[0mcell\u001b[0m\u001b[0;34m)\u001b[0m\u001b[0;34m\u001b[0m\u001b[0;34m\u001b[0m\u001b[0m\n\u001b[0;32m-> 2473\u001b[0;31m                 \u001b[0mresult\u001b[0m \u001b[0;34m=\u001b[0m \u001b[0mfn\u001b[0m\u001b[0;34m(\u001b[0m\u001b[0;34m*\u001b[0m\u001b[0margs\u001b[0m\u001b[0;34m,\u001b[0m \u001b[0;34m**\u001b[0m\u001b[0mkwargs\u001b[0m\u001b[0;34m)\u001b[0m\u001b[0;34m\u001b[0m\u001b[0;34m\u001b[0m\u001b[0m\n\u001b[0m\u001b[1;32m   2474\u001b[0m             \u001b[0;32mreturn\u001b[0m \u001b[0mresult\u001b[0m\u001b[0;34m\u001b[0m\u001b[0;34m\u001b[0m\u001b[0m\n\u001b[1;32m   2475\u001b[0m \u001b[0;34m\u001b[0m\u001b[0m\n",
            "\u001b[0;32m/usr/local/lib/python3.9/dist-packages/google/colab/_system_commands.py\u001b[0m in \u001b[0;36m_shell_cell_magic\u001b[0;34m(args, cmd)\u001b[0m\n\u001b[1;32m    110\u001b[0m   \u001b[0mresult\u001b[0m \u001b[0;34m=\u001b[0m \u001b[0m_run_command\u001b[0m\u001b[0;34m(\u001b[0m\u001b[0mcmd\u001b[0m\u001b[0;34m,\u001b[0m \u001b[0mclear_streamed_output\u001b[0m\u001b[0;34m=\u001b[0m\u001b[0;32mFalse\u001b[0m\u001b[0;34m)\u001b[0m\u001b[0;34m\u001b[0m\u001b[0;34m\u001b[0m\u001b[0m\n\u001b[1;32m    111\u001b[0m   \u001b[0;32mif\u001b[0m \u001b[0;32mnot\u001b[0m \u001b[0mparsed_args\u001b[0m\u001b[0;34m.\u001b[0m\u001b[0mignore_errors\u001b[0m\u001b[0;34m:\u001b[0m\u001b[0;34m\u001b[0m\u001b[0;34m\u001b[0m\u001b[0m\n\u001b[0;32m--> 112\u001b[0;31m     \u001b[0mresult\u001b[0m\u001b[0;34m.\u001b[0m\u001b[0mcheck_returncode\u001b[0m\u001b[0;34m(\u001b[0m\u001b[0;34m)\u001b[0m\u001b[0;34m\u001b[0m\u001b[0;34m\u001b[0m\u001b[0m\n\u001b[0m\u001b[1;32m    113\u001b[0m   \u001b[0;32mreturn\u001b[0m \u001b[0mresult\u001b[0m\u001b[0;34m\u001b[0m\u001b[0;34m\u001b[0m\u001b[0m\n\u001b[1;32m    114\u001b[0m \u001b[0;34m\u001b[0m\u001b[0m\n",
            "\u001b[0;32m/usr/local/lib/python3.9/dist-packages/google/colab/_system_commands.py\u001b[0m in \u001b[0;36mcheck_returncode\u001b[0;34m(self)\u001b[0m\n\u001b[1;32m    135\u001b[0m   \u001b[0;32mdef\u001b[0m \u001b[0mcheck_returncode\u001b[0m\u001b[0;34m(\u001b[0m\u001b[0mself\u001b[0m\u001b[0;34m)\u001b[0m\u001b[0;34m:\u001b[0m\u001b[0;34m\u001b[0m\u001b[0;34m\u001b[0m\u001b[0m\n\u001b[1;32m    136\u001b[0m     \u001b[0;32mif\u001b[0m \u001b[0mself\u001b[0m\u001b[0;34m.\u001b[0m\u001b[0mreturncode\u001b[0m\u001b[0;34m:\u001b[0m\u001b[0;34m\u001b[0m\u001b[0;34m\u001b[0m\u001b[0m\n\u001b[0;32m--> 137\u001b[0;31m       raise subprocess.CalledProcessError(\n\u001b[0m\u001b[1;32m    138\u001b[0m           \u001b[0mreturncode\u001b[0m\u001b[0;34m=\u001b[0m\u001b[0mself\u001b[0m\u001b[0;34m.\u001b[0m\u001b[0mreturncode\u001b[0m\u001b[0;34m,\u001b[0m \u001b[0mcmd\u001b[0m\u001b[0;34m=\u001b[0m\u001b[0mself\u001b[0m\u001b[0;34m.\u001b[0m\u001b[0margs\u001b[0m\u001b[0;34m,\u001b[0m \u001b[0moutput\u001b[0m\u001b[0;34m=\u001b[0m\u001b[0mself\u001b[0m\u001b[0;34m.\u001b[0m\u001b[0moutput\u001b[0m\u001b[0;34m\u001b[0m\u001b[0;34m\u001b[0m\u001b[0m\n\u001b[1;32m    139\u001b[0m       )\n",
            "\u001b[0;31mCalledProcessError\u001b[0m: Command '\ngit clone https://github.com/lesgourg/class_public.git\n' returned non-zero exit status 128."
          ]
        }
      ]
    },
    {
      "cell_type": "code",
      "source": [
        "    from google.colab import drive\n",
        "    from google.colab import files\n",
        "\n",
        "    drive.mount('/content/drive')"
      ],
      "metadata": {
        "colab": {
          "base_uri": "https://localhost:8080/"
        },
        "id": "6tUWh30d_zIH",
        "outputId": "48ffa9a7-8faa-4672-81ab-f040a4834d00"
      },
      "execution_count": 13,
      "outputs": [
        {
          "output_type": "stream",
          "name": "stdout",
          "text": [
            "Drive already mounted at /content/drive; to attempt to forcibly remount, call drive.mount(\"/content/drive\", force_remount=True).\n"
          ]
        }
      ]
    },
    {
      "cell_type": "code",
      "source": [
        "%%shell \n",
        "\n",
        "cd class_public/\n",
        "make "
      ],
      "metadata": {
        "colab": {
          "base_uri": "https://localhost:8080/"
        },
        "id": "m4ywCCUYA6nj",
        "outputId": "00f43a17-25e3-4c8f-de84-4512bc2a5dcb"
      },
      "execution_count": 14,
      "outputs": [
        {
          "output_type": "stream",
          "name": "stdout",
          "text": [
            "cp python/setup.py python/autosetup.py\n",
            "cd python; export CC=gcc; python autosetup.py install || python autosetup.py install --user\n",
            "running install\n",
            "running build\n",
            "running build_ext\n",
            "skipping '/content/class_public/python/../python/classy.c' Cython extension (up-to-date)\n",
            "running install_lib\n",
            "running install_egg_info\n",
            "Removing /usr/local/lib/python3.9/dist-packages/classy-3.2.0.egg-info\n",
            "Writing /usr/local/lib/python3.9/dist-packages/classy-3.2.0.egg-info\n",
            "rm python/autosetup.py\n"
          ]
        },
        {
          "output_type": "execute_result",
          "data": {
            "text/plain": []
          },
          "metadata": {},
          "execution_count": 14
        }
      ]
    },
    {
      "cell_type": "code",
      "source": [
        "#Descargar datos del espectro de potencias de Planck\n",
        "%%shell\n",
        "wget -O COM_PowerSpect_CMB-TT-binned_R3.01.txt \"http://pla.esac.esa.int/pla/aio/product-action?COSMOLOGY.FILE_ID=COM_PowerSpect_CMB-TT-binned_R3.01.txt\""
      ],
      "metadata": {
        "colab": {
          "base_uri": "https://localhost:8080/"
        },
        "id": "uXFw11RzA_Vs",
        "outputId": "420b6abe-245a-4192-e69d-4bd6e8c10399"
      },
      "execution_count": 15,
      "outputs": [
        {
          "output_type": "stream",
          "name": "stdout",
          "text": [
            "--2023-04-18 00:09:51--  http://pla.esac.esa.int/pla/aio/product-action?COSMOLOGY.FILE_ID=COM_PowerSpect_CMB-TT-binned_R3.01.txt\n",
            "Resolving pla.esac.esa.int (pla.esac.esa.int)... 193.147.153.153\n",
            "Connecting to pla.esac.esa.int (pla.esac.esa.int)|193.147.153.153|:80... connected.\n",
            "HTTP request sent, awaiting response... 200 \n",
            "Length: 7143 (7.0K) [application/x-binary]\n",
            "Saving to: ‘COM_PowerSpect_CMB-TT-binned_R3.01.txt’\n",
            "\n",
            "COM_PowerSpect_CMB- 100%[===================>]   6.98K  --.-KB/s    in 0s      \n",
            "\n",
            "2023-04-18 00:09:52 (611 MB/s) - ‘COM_PowerSpect_CMB-TT-binned_R3.01.txt’ saved [7143/7143]\n",
            "\n"
          ]
        },
        {
          "output_type": "execute_result",
          "data": {
            "text/plain": []
          },
          "metadata": {},
          "execution_count": 15
        }
      ]
    },
    {
      "cell_type": "markdown",
      "source": [
        "#Crear el data frame desde el archivo txt proporcionado por los creadores de CLASS\n"
      ],
      "metadata": {
        "id": "5ihfJXYixKAK"
      }
    },
    {
      "cell_type": "code",
      "source": [
        "data=np.loadtxt(\"/content/COM_PowerSpect_CMB-TT-binned_R3.01.txt\").T\n",
        "plt.scatter(data[0],data[1])"
      ],
      "metadata": {
        "colab": {
          "base_uri": "https://localhost:8080/",
          "height": 448
        },
        "id": "4iYFnxKmBFcb",
        "outputId": "30a032c5-3e53-409c-a058-1be5b31c3bd7"
      },
      "execution_count": 16,
      "outputs": [
        {
          "output_type": "execute_result",
          "data": {
            "text/plain": [
              "<matplotlib.collections.PathCollection at 0x7fe1d2cc6880>"
            ]
          },
          "metadata": {},
          "execution_count": 16
        },
        {
          "output_type": "display_data",
          "data": {
            "text/plain": [
              "<Figure size 640x480 with 1 Axes>"
            ],
            "image/png": "[encoded data removed]"
          },
          "metadata": {}
        }
      ]
    },
    {
      "cell_type": "markdown",
      "source": [
        "#Se importa la libreria de Class como cualquier otra libreria y se le asigna un alias\n"
      ],
      "metadata": {
        "id": "o-XoiR-e09wI"
      }
    },
    {
      "cell_type": "code",
      "source": [
        "#Importar libreria class\n",
        "from classy import Class"
      ],
      "metadata": {
        "id": "5GAy_TgUBHlT"
      },
      "execution_count": 20,
      "outputs": []
    },
    {
      "cell_type": "markdown",
      "source": [
        "A continuación se inicializa la clase con un objeto llamado LambdaCDM de tipo Class, se le dan los parametros cosmologicos necesarios y se realizan las operaciones necesarias\n"
      ],
      "metadata": {
        "id": "V95gJjjf1cX2"
      }
    },
    {
      "cell_type": "code",
      "source": [
        "# Inicializar la clase \"Class\"\n",
        "LambdaCDM = Class()\n",
        "# dar parametros cosmologicos\n",
        "\n",
        "LambdaCDM.set({'omega_b':0.0223828,'omega_cdm':0.25,'h':0.67810,'A_s':3.00549e-09,'n_s':0.9660499,'tau_reio':0.05430842})\n",
        "LambdaCDM.set({'output':'tCl,pCl,lCl,mPk','lensing':'yes','P_k_max_1/Mpc':3.0})\n",
        "# ejecutar class\n",
        "LambdaCDM.compute()"
      ],
      "metadata": {
        "id": "vFuIg7F7BJ8s"
      },
      "execution_count": 277,
      "outputs": []
    },
    {
      "cell_type": "markdown",
      "source": [
        "#se obtienen los coeficientes cl mediante una funcion lensed_cl que es parte de la clase class"
      ],
      "metadata": {
        "id": "M5dDIEDr2Vqu"
      }
    },
    {
      "cell_type": "code",
      "source": [
        "# Obtener los coeficientes Cl\n",
        "cls = LambdaCDM.lensed_cl(2500)\n",
        "# checar el formato\n",
        "cls.keys()"
      ],
      "metadata": {
        "colab": {
          "base_uri": "https://localhost:8080/"
        },
        "id": "JNvzmiYaBMiO",
        "outputId": "1330fd6b-89a4-49ab-925e-a7e7ea7f356a"
      },
      "execution_count": 278,
      "outputs": [
        {
          "output_type": "execute_result",
          "data": {
            "text/plain": [
              "dict_keys(['tt', 'ee', 'te', 'bb', 'pp', 'tp', 'ell'])"
            ]
          },
          "metadata": {},
          "execution_count": 278
        }
      ]
    },
    {
      "cell_type": "markdown",
      "source": [
        "#Se asignan valores del arreglo cls a ll y a clTT a partir del segundo elemento "
      ],
      "metadata": {
        "id": "9aN3AOcO3uv7"
      }
    },
    {
      "cell_type": "code",
      "source": [
        "ll = cls['ell'][2:]\n",
        "clTT = cls['tt'][2:]"
      ],
      "metadata": {
        "id": "UgEHA_v8BQAR"
      },
      "execution_count": 279,
      "outputs": []
    },
    {
      "cell_type": "markdown",
      "source": [
        "Se grafican los resultados del programa(linea continua) y se comparan con los datos del archivo inicial del data frame(lina punteada)"
      ],
      "metadata": {
        "id": "Dt4BGKfK6kC_"
      }
    },
    {
      "cell_type": "code",
      "source": [
        "# plot C_l^TT\n",
        "plt.figure(1)\n",
        "plt.title('CMB power spectrum')\n",
        "plt.xscale('log');plt.yscale('linear');plt.xlim(2,2500)\n",
        "plt.xlabel(r'$\\ell$')\n",
        "plt.ylabel(r'$[\\ell(\\ell+1)/2\\pi]  C_\\ell^\\mathrm{TT}$')\n",
        "plt.plot(ll,clTT*ll*(ll+1)/2./pi*1e12*2.7225**2,'y-')\n",
        "plt.plot(data[0],data[1])\n",
        "plt.legend([\"Computation\",\"Data\" ], loc =\"upper left\")\n"
      ],
      "metadata": {
        "colab": {
          "base_uri": "https://localhost:8080/",
          "height": 494
        },
        "id": "9oeA0LfEBR5x",
        "outputId": "33fd2bc0-6637-4d12-d3e5-e8b963b60363"
      },
      "execution_count": 280,
      "outputs": [
        {
          "output_type": "execute_result",
          "data": {
            "text/plain": [
              "<matplotlib.legend.Legend at 0x7fe1ca52b9d0>"
            ]
          },
          "metadata": {},
          "execution_count": 280
        },
        {
          "output_type": "display_data",
          "data": {
            "text/plain": [
              "<Figure size 640x480 with 1 Axes>"
            ],
            "image/png": "[encoded data removed]"
          },
          "metadata": {}
        }
      ]
    },
    {
      "cell_type": "code",
      "source": [
        "#create a figure and axes\n",
        "fig = plt.figure(figsize=(12,5))\n",
        "ax1 = plt.subplot(1,2,1)\n",
        "\n",
        "#set up the subplots as needed\n",
        "ax1.set_xlim((2,2500))\n",
        "ax1.set_ylim((0,6000))\n",
        "\n",
        "#create object that will change in the animation. These are\n",
        "#initially empty, and will be given new values for each frame\n",
        "#in the animation\n",
        "txt_title = ax1.set_title('')\n",
        "line1, = ax1.plot([],[], 'y',lw=2)\n",
        "line2, = ax1.plot([],[], 'b',lw=2)\n",
        " \n",
        "ax1.legend(['Computation','Data']);"
      ],
      "metadata": {
        "colab": {
          "base_uri": "https://localhost:8080/",
          "height": 451
        },
        "id": "kesvyXU0T_Lp",
        "outputId": "cbf585ff-0953-4553-8df5-f85b4fdfe858"
      },
      "execution_count": 222,
      "outputs": [
        {
          "output_type": "display_data",
          "data": {
            "text/plain": [
              "<Figure size 1200x500 with 1 Axes>"
            ],
            "image/png": "[encoded data removed]"
          },
          "metadata": {}
        }
      ]
    },
    {
      "cell_type": "code",
      "source": [
        " # Inicializar la clase nueva para animacion \"Class\"\n",
        "LambdaCDM1 = Class()\n",
        " # dar parametros cosmologicos \n",
        "LambdaCDM1.set({'omega_b':0.0223828,'omega_cdm':0.201075,'h':0.67810,'A_s':3.00549e-09,'n_s':0.9660499,'tau_reio':0.05430842})\n",
        "LambdaCDM1.set({'output':'tCl,pCl,lCl,mPk','lensing':'yes','P_k_max_1/Mpc':3.0})\n",
        "# ejecutar class\n",
        "LambdaCDM1.compute()\n",
        "\n",
        "  # Obtener los coeficientes Cl\n",
        "cls1 = LambdaCDM1.lensed_cl(2500)\n",
        "  \n",
        "  # checar el formato\n",
        "cls1.keys()\n",
        "\n",
        "ll_ = cls1['ell'][2:]\n",
        "clTT_ = cls1['tt'][2:]"
      ],
      "metadata": {
        "id": "oRh58vRmwxdD"
      },
      "execution_count": 223,
      "outputs": []
    },
    {
      "cell_type": "code",
      "source": [
        "#Funcion para la animacion que se llama secuencialmente para cada fram\n",
        "def drawframe(n):\n",
        " \n",
        "  x1 = ll_\n",
        "  y1 = clTT_*ll_*(ll_+1)/2./pi*1e12*2.7225**2\n",
        "  x2 = data[0]\n",
        "  y2 = data[1]\n",
        "  line1.set_data(x1,y1)\n",
        "  line2.set_data(x2,y2)\n",
        "  txt_title.set_text('Frame ={0:4d}'.format(n))\n",
        "  \n",
        "  return(line1,line2)"
      ],
      "metadata": {
        "id": "q8-HKPDwVeEz"
      },
      "execution_count": 92,
      "outputs": []
    },
    {
      "cell_type": "code",
      "source": [
        "from matplotlib import animation\n",
        "\n",
        "#blit = True regraficar solamente las partes que han cambiado\n",
        "anim = animation.FuncAnimation(fig, drawframe, frames = 100,interval =20, blit = True)"
      ],
      "metadata": {
        "id": "XzXbsPNjWz83"
      },
      "execution_count": 93,
      "outputs": []
    },
    {
      "cell_type": "code",
      "source": [
        "from IPython.display import HTML\n",
        "HTML(anim.to_html5_video())"
      ],
      "metadata": {
        "colab": {
          "base_uri": "https://localhost:8080/",
          "height": 522
        },
        "id": "otOr-h3AYVvH",
        "outputId": "71615fa7-fd16-4982-a72a-842a92f612af"
      },
      "execution_count": 94,
      "outputs": [
        {
          "output_type": "execute_result",
          "data": {
            "text/plain": [
              "<IPython.core.display.HTML object>"
            ],
            "text/html": [
              "<video width=\"1200\" height=\"500\" controls autoplay loop>\n",
              "  <source type=\"video/mp4\" src=\"data:video/mp4;base64,AAAAHGZ0eXBNNFYgAAACAGlzb21pc28yYXZjMQAAAAhmcmVlAABYZW1kYXQAAAKuBgX//6rcRem9\n",
              "5tlIt5Ys2CDZI+7veDI2NCAtIGNvcmUgMTU1IHIyOTE3IDBhODRkOTggLSBILjI2NC9NUEVHLTQg\n",
              "QVZDIGNvZGVjIC0gQ29weWxlZnQgMjAwMy0yMDE4IC0gaHR0cDovL3d3dy52aWRlb2xhbi5vcmcv\n",
              "eDI2NC5odG1sIC0gb3B0aW9uczogY2FiYWM9MSByZWY9MyBkZWJsb2NrPTE6MDowIGFuYWx5c2U9\n",
              "MHgzOjB4MTEzIG1lPWhleCBzdWJtZT03IHBzeT0xIHBzeV9yZD0xLjAwOjAuMDAgbWl4ZWRfcmVm\n",
              "PTEgbWVfcmFuZ2U9MTYgY2hyb21hX21lPTEgdHJlbGxpcz0xIDh4OGRjdD0xIGNxbT0wIGRlYWR6\n",
              "b25lPTIxLDExIGZhc3RfcHNraXA9MSBjaHJvbWFfcXBfb2Zmc2V0PS0yIHRocmVhZHM9MyBsb29r\n",
              "YWhlYWRfdGhyZWFkcz0xIHNsaWNlZF90aHJlYWRzPTAgbnI9MCBkZWNpbWF0ZT0xIGludGVybGFj\n",
              "ZWQ9MCBibHVyYXlfY29tcGF0PTAgY29uc3RyYWluZWRfaW50cmE9MCBiZnJhbWVzPTMgYl9weXJh\n",
              "bWlkPTIgYl9hZGFwdD0xIGJfYmlhcz0wIGRpcmVjdD0xIHdlaWdodGI9MSBvcGVuX2dvcD0wIHdl\n",
              "aWdodHA9MiBrZXlpbnQ9MjUwIGtleWludF9taW49MjUgc2NlbmVjdXQ9NDAgaW50cmFfcmVmcmVz\n",
              "aD0wIHJjX2xvb2thaGVhZD00MCByYz1jcmYgbWJ0cmVlPTEgY3JmPTIzLjAgcWNvbXA9MC42MCBx\n",
              "cG1pbj0wIHFwbWF4PTY5IHFwc3RlcD00IGlwX3JhdGlvPTEuNDAgYXE9MToxLjAwAIAAACu9ZYiE\n",
              "ADP//vbsvgU1/Z/QlxEsxdpKcD4qpICAdzTAAAADAAADAAADAAADAOWTJoSc9ds23UAAAAMAAEpu\n",
              "V+fR3oxiAOEvu6v5JZt+HWNzKw/k3GG1dVmEw8fbilW9H1F0gs2y/Dul+UOrfjgloqtpm/Ci/H19\n",
              "8o+xeuTTxF5e1qnraWsZnNPR/+lD29+trpPYvQhud/jDWBfRON7h3dyqikrZta4PJ4ChsSudRQJe\n",
              "2pHLj/JC0kcov9qHlLw8Nzb4vUxNKplXDUgfx3e4jEO2OnecCbUX6UsHv/UGnV3W1o0WeEu3wxQx\n",
              "GSJozBOCMAT7awGrpEpuqi3JKWkEuv3cGJjpe0VezJHtP0CTr7g/ZmKZtFoMPNmCg/qhu5nVOfDI\n",
              "oD+7JukyDVya2sldp52Z9pMhVj47uJlnlCYzW0v6C80YqWiRVQ+iaEr9JuOBpVBrR2oFY54gQv00\n",
              "oEuHpTgCgzVzqgmtCKAZW66OgfKkzm6R5xFX3IACHRDASa1YaDGzxI3aVF2ExcPfUzGIB4inr8EM\n",
              "4NeX7is65UkPpgbC/PNiB7Yw/2EkjGt23hwVb4re4rWOUrm15ltFRpV+ZzAi8wvAY6IrC30QhIYg\n",
              "LlN5MtYDYjMbMD6Fp7bSdkMz18jIIrD+xXRzDzHZmwO5Cfdkv8rnQDCiMLuh2sDGLwKldeCcy33+\n",
              "b55gzHR2D5zMCQmj8mr+zb5HUBNVy0JgRXQMhmHXb2HVi0aRr1RY39j3RZoyiZTOQPChfDq1tEDw\n",
              "+UGh11rwDB79J5BT4lqIKagYaPvs+NrOF4BTl8lo5d4xESXQOT3L4owFWDVDVsUpjycMp+kDtjxQ\n",
              "oUS9oGKBcqgOLBulk0uzWDSTPOnl4JUKlt7ZKJBXX9YEv30aFOA+OlbFt7ks+OhJ1Nhr8hJxvyWT\n",
              "tD7Puq1Vlhf+Fks30d/+0+xkCP2VNl4X8W/40usZuzsAz78pZ/1kAalRpgWumpexKWE7CNWZ8UM0\n",
              "s2jEYUvkgVHL+jdY9sAAC/ZklWIsjuwSXeWHL8iBY346e2mkLDfyyI/jz7l9z79VY1LXemphq5gm\n",
              "LtKCj4VqJjWIS7aDu9OAUYqwttUjJRHvwB3ZusCzRb0F9x45f8qGBj7N2IhzpVvfeszu5yFTy1mb\n",
              "99/7TDX38gVvRhmjVm6G+uDJFVi+wNNQp3Z+G9K9qO4IgbVp/aBmIPO7lBox1AK24LYnZy3hemXm\n",
              "lfYgZKx3qSoks8I6vW4ea1lkwG3t/Y6/hJcDXpe8Fb8VwPOO0D4O8SFYJTVvZuCSjbC+RRb8YZ72\n",
              "DBpFAcvSlY/67/shxZ5kMYkGt/p4OZ4AiwtKtdTGmvRWJS7E2nio916UqXg8S3Xo/0+LYMvKAjzK\n",
              "NR2T5dy2bh9Dtp/OTFWzavI7cUOd3O64PzThg4gxnXU2GRgePdLPseJlMFl+5ulxP2IPQ+gFSZVn\n",
              "EdxuIXJOHX3Mn7k0N/rU7CDGJqodiDdzSAD2tJox4z5uCZp2kyUa9mqyFp1j20uqYApAyn6vci5U\n",
              "TrCuz5KRhLXsaD3cRurctrAhoZOY3kHwpbXV+hF1O6IK4a/iYfNmjF6DlDpDxvlnFLsQELVcQtnO\n",
              "wtnTjEshytKCzaiofhWx/wwW8KSrPHFNpCFODp/wU3hN6zl1WW7Qnc9N7bCPKo2w7W34AiajfaR4\n",
              "89p2IhVel/Geo+IDcV1iOnRW/c9NLZFJGseQCyqIj5GquWGA5hbPLcpbxY8yunFYD/O5Dpc/9HQP\n",
              "CGEYifrsUylKVPnqv4yM+RVdAqUDDep8L5oZC/jd1+nXr4EcaLbS2jfy+WRtIe7rUr2x0bJ4y5vO\n",
              "S/8QqOYVBW78EnYz2+4LNMskMAlQrJ1qiWViUWV925wE5e6gCZooCvTP296fn+ulUyOKOU+qExsY\n",
              "1C8aEj3g801tpJTfJkXdICD1LkCzVTD+gXYMot/pnn///8uo86iAAAIQXl89SFCf9ApRrNaDrQVi\n",
              "OUao79ApHixRJBpvGabSVzySoJ40U9QBU6pIFTCB8ECES4AhJZ3RU01e9xNDJWRL7zRF7elZB101\n",
              "yZBPwJneTaViIF5FjJxIpjugaJ8cGODRQJVN7+k8hc9lpliN/NadB7MBgWOAvNXv5QS2ZhMP8b7i\n",
              "mb9Gpn0wdnHa2HgIiUh/Weqt/Wmp3mzN5CYD7jVSdTaYyAsGi+xLh1IxreWXb1WUdL24ic6Ybf8O\n",
              "NKCHbHTR93VK/kDxqqx4zSy544TJ/tBfF5KGNS9qv78YRjBhbeuaOjjpkFx6V8IynZz2XTTAmNGe\n",
              "X81vVP0gE+om8T7rilhcBjHi//tgr+BXVpj3nBklh/aSnnv3ztWhbPIPcBOOG4033V6Ex5OubKG9\n",
              "TsIyAztbUye4lOETHiGEVnWb7EtZtEPjjoEOj/EX++hhwu+eWAi/KPmV4Xpni0wzZD7ondPb8t6x\n",
              "IKJhrng7pMP8l0gpERIr+eAYw+NWE1Phl/YxgCwOVSS3wN1cNtQf0M9TvEjuYEJx8+OuJwMOejOY\n",
              "9rR70VIVlKZhsDQJOLdfHGdgjc6jB6hr6WCeCKKbeyJFi5TN2KALg5bhADkPgrJwuBecIfQSv9R9\n",
              "/Gm3+CKFurduXOn/rcMxdJIFi8Ib3p5ot8T8mAJoZh/iBOjWAOGK9aC9CMilrXJtDWxmC4KtA7T7\n",
              "C6ONMxITvVsmPXzz5yvmbSMCL6QFxsQBQ+utuIOL7JrSAXBSFlVLt/ii4TY9aCBHvTgHEkskoL6f\n",
              "skEY2C4zLAfRByt4v3tEc2/Ga0n4C/tXBxIzXRfUuoKMTppN4NF5X+afzs4BA4Mpb4OhUCPQmHa9\n",
              "DzKAgIVM67nUKv/bV2VfwNyywibeTvOT+7KIWwyMw0aARdRoRHwhlPuJ1Xc7PigiRNmIf+O46YP1\n",
              "G9PtLXwKDVSuEpV0CC836ci5xpiMiJeTGJIrSAvXZCIvFSXP8XXh5yhPIqEf0qwuZrVUldB7GAKS\n",
              "fPAhY9FtmB3dMu9ZhrXDWSU4MsQ+5i3EnrOTmGc+KbU33uc+cC/1C2noevFxM5YtGrlmv+PNFzgY\n",
              "2zrr7GfAJvobd2KqNvggoV26coj5JvUurpE6eZub0LLQn3uqYSFo8T0VMTpXQKUblHUYLw/y4/+6\n",
              "mOuwmSgikZ/xJDXYAHL9itln1UCLs16Hqs5xY0bm3aiSUp/59q4AnMWZj9W4enmEM0VzIh8vn1EB\n",
              "Zwsq5AYxqNdqGoxKTKwSO3XMc6/XrFN+y77MD2au0eCzoi/f6jO/EIt8fyGt9oX2Gdvl9tDYFZIN\n",
              "jep6m4bT9tEI3YH9150p9qFgvSp49vmX/Em/M8QGEDB1Mr8Wb9LlnwwYkpkLpxmQHPFwYisWObbI\n",
              "h03Ow6lCfKuKbAA1Kn9mFB2OPgln8FdmHbiGjDztMDq3WFoEn8vsCK0dNhmXprHcWLgulpdIE5vY\n",
              "Wip9IYCqD7f3O0obg8IySILL5XcqrwQGUvICqdpu9wR8Yy3MAZkFA5Hawsb0FqkpxWO2KgXRGxKL\n",
              "O/HsN2oAGe0dHyInAHbPcbJsUeJYsjugExVp2aPwxNJjayqSyVx3gkmqSAKou4pIODSwXNAqFdym\n",
              "ugChHnlxXs3nRnosZa/N/7mRgDTRAy4I1xDu/7ZbARUq4AAAAwBIkOtMKSzNR4VBV8AXLNQfiIDw\n",
              "cvOo519eGkU27ubR2oqaYODqE8aiibDoBExQ6wAeJnfgeQOcUIVTljd61RICjs0/CNkfw+WnEH+o\n",
              "RfRcZKHTTB0K5sFlfcypiOUdYqbTnOWIxWoDgEKQcGtAvjcoBa2AJ41lpIT8sZCu1qIMPxbLxvcD\n",
              "EXNAq8Ke9fOdlFi471La4LbRoqShieaFZHsNgGcAAAMDUTXpyrAsJAku4rYq0SSFk6hUm3ULxOEk\n",
              "bhkDY+RpcE3+h9kP6ac8FbCjXhVeCedtAoCIAAAVpAM5cfYohtb43/4nhlNk+oD+y61r6ytFhmhn\n",
              "pw6hfEpITmnOMuY7d9YnSm3QM1Ip9MJdy5Szuhb2SACSSjzRxXg7l1vIDL8OszX20a7sbsiut6HU\n",
              "U2aIoqMqAeXQstIXNqNhgFbZofX0gmlwiDrwIKebzb5lFsFotYABqM8dKclDp06f1si6F03WcE02\n",
              "XGn+HvYmMh1DJZf4OnTe+ofMeT7UfJVgbtNu4KZeZJ2fHzA0kselwNbmaKaSrh9LfYqKgty1F5KM\n",
              "eAZposVowr/PPk4+MKQlvaintqJnzILNsN/v2I6mqbJCyvIwQG7Jq5BoT5kWExnPhLCuWawAEzev\n",
              "OVTPx0wjII/d99wmp94iDkeTKzmCucHkt7/k5meZq3ZlCfjTHZ2zX5TYcb1LIvz3S+eZfVyIVt6v\n",
              "HfRvrbCz+4T/Z/H92plFJR2ef4bX94XjXnXGw77O5JwIFsn9HiykbtB/WDeF/CfAWeFzORCJ0vWV\n",
              "ZpNfAVypgxL/j8zS4Kk+TfhOhdY4seBX88RoMUVxCpXq4JAeB8r6kr0Uw4UVmx8sI1gKoC28kxDT\n",
              "xASQ5sbf1RrsP3SKAV9Mb2PdRRsnatZJUFwBGHu9aEqK+8oaMcUWG64swfcYWSm/a0btItycIOy8\n",
              "/B0qu/0a0E350gfiUCEmAmfqf4wtyF81yhBPAwQRPBwzzHqKp7jlv16QXUhC4FIYFETU48NNsfid\n",
              "8XyABKOPpYOMVjFnMi+Q4KmgN/ha6HxVXny3tCBCLNJfquIWdiRoegRV3qIRfTOr3BVLKYfAS8A/\n",
              "LUy6z1u7WdiC5h9vppiuwx4ZHDREX61zKnC3T3Y13/0W1jS8Pq/9TBOncTz595dfEZywl42gHIUC\n",
              "Hqt+mhKXXLaElLILEIBhNrAjoYU//kdHUQ/F8SmZ8WECzzZ+07AAbwEGpC+mt3zqZ52yM7cAF1I7\n",
              "qIvNt35pfRV7/ppRgMMAAk3uy8XwPmXieT0vUrMI3KgptCF8lFrufZxnga4ilyguyQxmtXBHxayz\n",
              "V+BF9tcrE+KZfRrCfRu9VDxBp/nKVx2sT+GtQtWxAiMcpp/5vu1hmtABX5VFGe8E8om8wKJ4TQY5\n",
              "bvXbzHRP2RwQ9kFSAAvJSq5trJl0R/0SjoZUpGUiJW0hnikt9WoaQoRy06R+iuo+t9XzqRDAhE+6\n",
              "j+NO9IuRDXnGR1rtLhZzPS+WAdaHAtfu1Ieg2+jxegxLfueTaBerdv15b+cnHKV8vFPxktSvJffv\n",
              "/I/9Aa/s+Mc5JrG2dxW38rUbjIAVSU9+y/Sx+JGpQvx1cZBsTmuSFPIzxCc29pTryrggUG1m8YaG\n",
              "PmVCswyLVIU+HJf2UhRSL7kmIkAC5kC7nqIAEly1Z6xjJUbpGJFcS3qG8dOmFCB2bPjzOfrDdjsj\n",
              "sKo+pAE4DsVq+y1+tou46ztMvjGTo2K7b4kBoVljNF1wRCIc4Q1N0y83U35impTiR8JhwAunYN94\n",
              "zX/gC1c86OIEkFGxvKZ36zlubXUmXgVS8dc1/njD2Xkw5lQcQuLPD6MKb5H7BOWUkWQtewuzog59\n",
              "rkLiZCTrx92WbaWuUG+1T6lJoyxH5A3X0uV+ZhcKjd4NXbIr0BOHsHaogs0obZBev/6wnM8u9PvG\n",
              "mOweSDJs+hMmEEAxy0wM9gaeZcYTVNlN8MLc/YMW1AE7NN6Vv0mYi15PSxwDOD2wBu5nEzepCDSI\n",
              "zvc6o7bjhYsA8Us/gsdiwu/8i4fYac66nUcLGc8C9DjGNG2DzyJyw3+rUg9I4DODAyYY1unAKtJV\n",
              "dMvNNT3fpP1AN+9jw5r4z76Yci8d0lVcVeyNxrfXyNOFtZb54t66YGcPtTlh9i+twYEzE7+GErha\n",
              "+aysvLI4/PZWTmXJIl9jb0s1uefldYLddcS2W941bz+GRzmwkzeVsGwmvNg38L2SG8AQcACYtUkG\n",
              "4Edq/jHv9njT+m/q2yhgt78TkFhAuFxTTCsUQ29epyYh8YoS/q0TgczSVaVk4IHOFf0E7XrgSFgb\n",
              "8ZbsFD4CjemUlaVCwmp3qY1u6KvAgHIPapGRfT04P1ovWs+xSVQ2vLWWJyA4qv+VR1NYdmWF9hcy\n",
              "QPglFwLpW/Gxv8Rwm2KfABGFnGp2ZGV8yB5avR45CDzeTaR+j9+KVcFqa+ONFyfvSIz/Bvv/VZX4\n",
              "3HpPgoSkNjWptPayBFHIalyb/W9/8LHsN+RRtUSTPZ/1jBWz7SXCwvpGftcEUj+ZquPborlv3O+Z\n",
              "2rh+3CwsTXVc6NlWk2k8PG4fcDsFrTxRSWgi4PaOVfY4SBN9P81RoN3PxUOUBrSmicQRrCgp8xT3\n",
              "LwkRojngr4nYTSv3UP4wUIhVY8nQ9Kb9t8jJv6V4P5hcT05ptvyK4XJoQ5dUiQpB9Asy52Ui4BHS\n",
              "OqObQzxt8M7YyX4UIDvkkZb3YmZPZrIVxYe+XAZKov005fGSdjX87C3sp8948SdLCytK4+x+Xs3Q\n",
              "C1OcEpGupKs4Xxj01OxhXFsIBtywgdIeI9FePd58xEQnPDiPWYvHD6YTnkdlFLZ64GWfCpiap8/R\n",
              "DjLHrm/lrTQPMAAn3gSE74XTeo7jcZuojPrdpvyQXfrCg5EPv+q3IpLaWDFIRC1V1iTWV2ODOhQE\n",
              "+7Mp0Hv8WVyx9VNcqP9sDg1pgGcvdlOzmmmnpWkYVVbDH6d7EHDeEQ5fcUR+wrNgEi9HRWhQlfJB\n",
              "dbH54s4BarMMBu+6MpT2j/1+i+8zPhpBTmmxvUJH5XF0LdpadU8EZP/kk9lD16YvBMV0+f25wSG+\n",
              "NTk44TNhzzvRO2ScYSkKvXggrFgOaL62eoKp957PFP5XXpqFyaYpve5onpEdJrMnt9Ek7173tE6/\n",
              "mk+tBIGKxm1Ua7m+oF35WJYMY2BqQc8QWu2ZZ3Tm1YCILlgWPtoGpRI6QlTXOSja206Vo29bhSQZ\n",
              "OkWe37jKIMp5T08l1CucgIJzdNNVqapgjhgSvY14k8k8Ho8+XF6OYBsLluhpcAWPQTQ4qd6RWIWD\n",
              "BY9fIEGokK4LjKlxVBW+7XTUGUhdwm+W/WOYh2Ax9m7v1IW0E5/UUs/YPd+FkjtmP/HCRsPouFCb\n",
              "GKb4MWaY9RkzPffdYu+4ZJiabZ5N8NnEbaZ5AK7a11uCqTb8VLFtZz5IWjGRRhSraHM1pAEFY2yw\n",
              "OfE0k7ChQg/PrxGrkMr3QSeFXpSQoQwWVt2z9OMesXS5fJy5OddAECkgAQ1Hr+cgej8qAY8ea/LF\n",
              "kAPBbEjxTbg5VkAQnN/jUQw4C52uQlXuUEWqk1fJLcAzQMd9aT8fmUWZNEf7t8q1Wr/JIq5g4SeP\n",
              "nScc++G8ewdPul/NCtk9xzRiL0w77mwfQ03GjE+YwYjk2/aylqTE1kTZC+PcizhP1X66ijqVmpnr\n",
              "C1/8Ou3iM2P8iFGJSWAEtBaG6up+VZFtIMQF/3x6yePHP4pJfed1CcPoNNctFFdmJxUXY5gN+GAm\n",
              "KwSXdtQOOjv2XblEWdd5ZyijD6gdRDs/eCv0Ec3rDOxs4Gdml0vxdfgAIKODdAdwZwGT8fg7REba\n",
              "0or/O+ecSRBseBTMtClzbLKdxG5GL/J9xG3nfUNda1V2/F/4gRGkwOzvgG2aYLGZvnP2FCrfj5yM\n",
              "ou3O20fw7uzujo40TjFnWYmiVgaMNSQTMI8czQXY7CeLiQcLpz3cvPBzTl59BEzCXqMcv8Pmj9Th\n",
              "DzVu8+l2UM6HNBqF+3EAdm2Y1dj9oOsGm9TJvEd93zoo/A5uv/KRMz5WbEruud0ai3p6RuUmtgmF\n",
              "9TbpEnwvkbCWQvnFSnZl3aXt3M1CaiNh41xxIqXeIVPv0OWKhqRglWrWOuAq/8DAVsHw52NQqc2f\n",
              "wHKrq0QRYL088WCf92wqLE5jNACUES15NT6GT/S4SPkQNbfBrZkOn9Fb5C4E2UEK9svzzANxbEMF\n",
              "QwUD/hb2Bu4rP+JxwtMJPnym0sbJJUd04hyG9Mi7QHKAA+fH/lr4jywYRNe6StKviP1pbxys7v+l\n",
              "NVZ0kojNgdhs5HF9H5gvj+ufiM38cZqA6ujtfPmg+zvMO6qCBPNbLcxhTmArKkJAsHaefVOs+Cei\n",
              "uFfovo/MmTFEEO+W9n8BWjJmjBpaBNg1hum469WAVPOJyUFU3DMRNqY2V2mZ396ehH3bzbUm5Szg\n",
              "760E+soazXQyuVUA2EEcJsVOz+3HBc3KC4R+a3kQxwoU4dpeLU9sV2q33GBHrYx4C0AS7yCJNiFf\n",
              "zt/HfNvXBcggQAXfqozBpzEjR49BmQJ+usQwFmaIpm3CyPObUpYAdFKcdCUItlzbN/6rau+4ozOs\n",
              "6qwssSeNAkkK4bjpgCeax8b7+JxTq8qI/5WPi5uxPvQ6AsVn9sHT5PMPw5DnsUsFcxoOGCcsaO7t\n",
              "/LK3+FaAN0ImteM0tFOkgmllmiwyOM++CUsKRNtfZB6o4AOC/JdywUOUkksporsPgIko5WlclGGA\n",
              "oxW9ykj2cCatW8OH9nJeUZBQ8l/V+0vVcksupLyBDhtjVwFfboSmMhKD/FfKh85GUJB2fmQB049C\n",
              "eDZvD2IyunTFybHm0Jm0VJTrP1LZ38u1Bgpxgdahaojo4lw1YzSTMu4h4ZEL0P7oz9ZMJs/FuesN\n",
              "tq+ZIPq74DM7zz8oH+d3Nx531sKJqxKdP/rTyc043R1kmItHZYbudTfL90096u85tWRG9UeT8v0S\n",
              "r+LR4YWbaKbS7Fuljy7j88Z0PnAGG8H/k6h1IggTGiFBTc7NAtS9CA0Wkrs4p6Fh+Ar4flcq6xMD\n",
              "5LoSdUDrZHK0OL/P15n9YFSRjnP0KkOsGhEMfRZtpIsB2KUY0+vQIdoXaFQb99eNj7y8NzYZfjbc\n",
              "n+VaR6NGDcs8Jo4o0qVWUJGgU5VXPV1JKKLRVqDQYqgkPf8RN14M3dJ4rZbuTRlgQGL/AAADAAAE\n",
              "Wp53KtEmTgmdliXNXFPIdSq8ULHC5wikquCRH/aOY5hbeXVUPzQA3ZoVz/FIV4JCMEQkDVYuEBSr\n",
              "Nr+aFBk7KAx2SWkk2dVWc4nie9ArS1X8tMr2lMSYsRKzWjAWVCy9MyF0WQVPuxlR8O2U5Qpt5Z6I\n",
              "mU4pUUkIGO2Way8QzL08U9ndOi2eXfrg0FoXuMe5Aim053kVq2c/bKNca538mIw3GegD7tmdCK/0\n",
              "U7pMft4EaL0tY94v1gksLN5aVTYlf4dI2PqrfkNOb59zbmJ043zz4NfHchFk0BjGTc/u+l6iSRKN\n",
              "TiXlCpnlLwx1bzlEUFxLlRVQEG1KTytD67EKO0h25BHpsg8g2SAih4Tr+T2ozVv1T3CKV2IdBMyS\n",
              "VkdEsmVHJV5Rbfod1pP/r05rSwGx1WtS8P9eGE3nXsEwu4olrmdzpdPwVVv9Ql5akXTVZcJy3L8Z\n",
              "H7SKVbXBsCzIXRQRaube2ePGwUhXIUttyNv+OrkdvQQAQKOOOB/YOZhF9WbpM2Jq7i3p4gdJLPbj\n",
              "0jWetZJK7bjsE4ljCdJuTZ6SLQzqTjRR33SieKLJX4aPswbVNcxYU4XJ9b/jFXsnBMm9CIFoPnCa\n",
              "VA3ES3+iR95Up+9snj4hDONvCuqkSxULM/8X4ZmX3saz6eXBZEHmVkzwiC1ZmUhAFd/wbPYhx+m9\n",
              "FwJoeTOANrWFgTt2f820IfecYaw7xqW+0cpp57zXgBWllB+4Ld6e6x2nXNFQll6N/3HC7ySn/P+U\n",
              "zA29xyxfjIyOD7IDL3akUoAAAAfIawf39zLEm5a5q0jtxbP5i/QUOg8ZhUqwVn1sprozJNGLXIG2\n",
              "dcT3DFFjjgVS/TXN+H8xZZl49hzb9GuFwHGBXwyP6YV78JVwDpNlDhvq3/AugEX0JZQCtk3lccgE\n",
              "pJoMovz4TUwgpgdPUrZ+MFAP8F3mhb8UzgoEANjpwY5JMDXTP2Qx2EvkzX12kUVCGhkkyl4tesDL\n",
              "6M3zK2W727Jdlvze0WfnaIz+6k0ikEc2ojVzctCCQrq4rpu2EyIGPEjT61XoI5spQzNMAr/4Kb4O\n",
              "f2eb8kg9kBPU7YXQ3Fwux6ByI1NqvvEoKCf6YdnjZ9t6d2ZEf6nwWwy5N5UR156lIljL0aYhNkoF\n",
              "003CL6I7S0Slw/DyrAJ2b8kChznUJ9EUWLhGtAiVzRHCKAS6vs4W2e/atyj/+SyCRft8lG60GURT\n",
              "SyYhB/zwjzf5irIAzwAAsvk3gowOf/N1LbbtcA06bf7vyU2fjnnPjJcSWTYE3bNKTbcXP0YuUvW9\n",
              "V8uz36XortQDzDM2EOd4zw1CJrpTAFQ+fUMYxV6NgjoQ9HlWpluz51SYXJXszn55F9O22aUjBjty\n",
              "92jami6uyiy0YcZ+WvNaUMK1eGTkssLNIGxVmv3Vsqe+BCFyLGewR078FeiRpbl53G3frErjDBKw\n",
              "AkW2ZNO4TprTXeEzxYRr3A4Q1C0L5EpJfoQ+luDJKB3pfJEOqwBnvUnqlnBF5ihj6sNt5B3fXsK5\n",
              "d7ne2O1HV3kU/829TE3U0JJ6yDEZVk3owtyqYl+dsFtUm4CY+aZG9DAw1SCBSOudH9gQ0q0su4tj\n",
              "Ij4yGitcURDQjj834yUEI/y/h9qhropYiAekAY8ABT2T9oyUQz74hIkHJnR7lF2F2QBgujA7eVHS\n",
              "yHnDgbzwOXtiKt8rAJx1FfTwv1vmtU9g+JEbayFVJdixob0Wq5VwRRn+VeGEadqeIWrSwiVrb9/I\n",
              "s3d3PieBvqhTf83mCRKaaxdxlhlmrL46P+k6bMn5VxNqj623oT3XUyC4cR50mdA7N7eDyNnx8Unc\n",
              "zTGbxaRiF59qXIjK85wxlg2QNq90IFzLrLWayj1dzjQKWlVIxHdz/iVBmucrztou7zAafB27wSzj\n",
              "Jr4c45S+Voowt+aNKVAgnwlkz6DJSH9vKaTEkQ0DaQDNbIHYiBFbcSTPdyOkD5lNZY09CmAsh5f6\n",
              "fZlgJrU9ogvYSttdyiLREfAbS8WWB8QXAiUBI0B9Nubgd9yP9Bvn+LPW1/h7BL/q/m9R9j5cRBL1\n",
              "K3y+NpQPJoZF2yMBSEZoGbpUbXwlxSokXGatUsNpFvYaDpdBTNljTw3RzryRjLpuj+wsCOndQscM\n",
              "nbCXF1J2S/fBbi1CoXn4JVudAgALwtTPxujANsltP523BgsSPdw2X0JtejYwaLu8ZgFEYoZixYHd\n",
              "f6cP4/aROWsRiUjEorCV4njmMXC58nBMOFkpk/O9ynSuW2rsZc+xmXyybtInxf4re//87ESsRo7S\n",
              "GLLGZujjtQho7iRIbjM03QqMfX699WKNJb+Cz9bOs8LK7HgGKVVb5CESo8WdgCOPD6HPhtnY4FOy\n",
              "x1Nor8fxOhPWPYg7Mh/Xey4M23V8+sS0iGlpcECtmPz1IrdXKgiywfrFvyl4BMk3k9JZZ4WwiaF3\n",
              "5LYu1crD8nNgBZQADCecUiAWPVzL/kf0x+8XDI2W7x0tmI8critlo5n0kM3nAbR49SQiJ5WzDRU7\n",
              "3/GZ604PD84hw+AzbqrtuPnaIi4Ry6DeHBHYJih2qAD58EVYqq49DziE6ldgUbFNXzpOoigwxfak\n",
              "0f3SuUyRe0CIVXdSw2iTm9iSsZ7nUPbLOazS74JIZoAZU44zw6XHSKQkFTld2RKYXqJgVSjYIANf\n",
              "dgNrvhGmBGgH1z7YDRzNPt7qhlpNUIhI4m3J3xJn7ubpwKOVkA0PoHL/b3TeF1cT0CrN4T958KXZ\n",
              "CU49h6vBiED/wFazwOQihTuGmCucTdCWTe9IivzdOx9VeF2f972PoApASxBCFu/+aKknLNZKX3ot\n",
              "8KzRYGGUeAYnJ6z1gD+bwB3COK8N6oJ8wlODs1TB2E1bnF6O6TqVH2w8iBa3G+Y7IaVN3ZryWAzY\n",
              "qHjOFGfDkAZB6xwsF5TZeqw3pwECSpPZ8ba+73s/0/8QdVzXsrF3YBJb/Az/rkwODI4LWWuHEe9G\n",
              "FcNmhDkXX6KnGkCkAABNq/AtvgicezLdP3ppZVQUeDx5qsCLXWLu7Q+vGju/5NXdRxDhh1V1lxTm\n",
              "Uc0TJnSqgTs9wUsUPrkONYIOEcH9WjU0/fgRP7sH1St1rw4WfyYWTKJaAIbGWkmpCn2C0uRU8EgP\n",
              "YVgSnQ+C+xiamw+ihRBlHiG9rBAekDd+4z8iVP2zqAhvlqJq3gxVw5+pm6GBAkxQea3DQMpGvJOY\n",
              "ahIKbcinC2UhoKwLq/AivYNfFI+fGrmMlsqFCuYGYS7cdoAQP1WBk+N4X/+rivTLWIlsiGMA+9SB\n",
              "bmangmAEIjOYMXmDtyBGQQcngaWagABFAGgm1X2/GanxJJ59MJhamydgWi3KCuIrb1uGLeCegS0R\n",
              "t58oL7jr1Y5h/yxfjVuJKsgPKcLIhIq45i7xVaRRTOTlh6/8PontZWBjx6YLOJkMocG6DA4pULbd\n",
              "cnYIbS90fxZgF0KTNlKkEbDWj8lhrtuV+3meYCxzfmTI2Jokij7AzYN8aqNk+zJQrWppz2+rtNeO\n",
              "0T2JMGmClqwJ3A0dEeRBck+56kTg2ef4E8nh3kN2cqhjvNAwykq2mNnNDg6dYSJFGMS2FrGt8x29\n",
              "geMM72R7BQOZSYGV2U5KDPT9xZsXjE78AvQqc6p7YqFlLkgt1T3tuqIHm2vnoVdm7ejZHNhpAwId\n",
              "YSRDV+EVB98ekfJGMoUV8bQ3UlE66oWtgdPuD3yRY86Prk8Ra106HhMvQ1AEqOf0Ck0zuEBtMtdN\n",
              "f5bpQJcTC5Bf5OIiLpp0vmot/qbKCowPL43CoJlgKf5BqMCWijAwIJv2Sj6WwkMtC+sDBIQNp7v1\n",
              "V6sLBjFqXrmJuH12dYMZ0TtuhyLqpJwTUTAACfSXBc3qjqKNlwAnAG7fo0dgnn3pX+llJOvcgbWy\n",
              "4nyOa62wKj7nI8rP+VW/E/r63yePlbalyWyvOZtlO1DLdypBffD0q8ny8eUsZv6Rt1Uzd5V8jq0k\n",
              "YxKLAsKG5zbskBNT9Lol+tnxQf+1un517OxXjWYs+cg//mCNWdliTxY+/w0ti2S1OIZokFcBy4QN\n",
              "sLFwLUHrruPLwUNpqKcqkJ257ItdNW+V+s7dmfitIXSVPCshxR6NEJ6jBFKq3HmoqmeR1OJ8y/m4\n",
              "3fRlci5sDUmMsgQ+d0S6qVqCa1BSdbP2VAaAsw94geBosCjvEu2RGmMtc6nm66Rh0PGd4lJRdMQc\n",
              "C8cJNomUi6qE2muWEGZES7TtG7EOEh83PvGiWFT3JOOhhH+9r67v2YK3TjCF9FDlq91bFx/RU4Xj\n",
              "ucrZFK5nHXJA9KWDHp/MfHPT1MsgbgGEhEChAxs9v79WC/IX+8bV/p8uMvxxa+4Tr0DcDdYIccu+\n",
              "2UMiaqh5ziBtLMGZ8EUCSVu7poGjCHS1R0Qudwy2yAwxdic0PHGd0cJMD8d4BzJfDOOXp10jBoul\n",
              "OvNsisp4+729yHDgiVgAACOayqrO7gNApj6XJH0yUSkqT+EcAN3LB78n8GXhCpA0YnOwrFtE7z6y\n",
              "3CCic8rp7bFoXoMBUe5TJxwSnQUt21onMpIF2NR5YVJQumEZgYryIzAH823ASZxnVvciNRXCjbvi\n",
              "7IPcu7BQO4We9B+27S12dCZdxPpynbwubLo3M8MwUPEOULYbTuf1Vcoo2hHPAUV8jEUZMs/0ViVz\n",
              "HTWa8H+08UDl6w/sCTDmUKHuIYtPv2JG4UsQ5gQxw6jg8rWmo5L7WaVANMEOyP6x3Lv5s/7va7xv\n",
              "//QKzHn1NZ4oauY4c2ymrAmgbr0AdC51Hn/rtwI0pPJzRSMmdPjBBkDd1U6mZPcHjdffGQVr7UMy\n",
              "MMCJEc4nbrQm1nWVPBLP550u+F4rIcsXB+YdN+vbEpc1vUQsdris3jW7tQtxZ1+a0zgGW0Wp7ic0\n",
              "k9NBRxoKMOu1RH/eNlmcVlHcAz2VKreqOb7uLv7yt3qA40ZtQO3uDh8IMOefWZcZwi9l910sPs9K\n",
              "xKipCAQpBzc1pB+54d5aVUCKZNKVWwqJhQHZNHi/MzNjAK1BeJnUQIfTqp2L3V72e9OKMcnMOrNU\n",
              "E1JaCN3Ik99ykBYaWxUMdvIUwkrcKZRRqvldSWAuy4bXZ7q43aWh5gHyTUQx5PSKCd2cJ/6IvxtB\n",
              "QW8FyuVaojK9CWQcXHDLHfyzGmukb7sBp/jHN2kGFuNhS2OIX8Z89RzBrVpk9DvefZU9S9T/0axe\n",
              "8Vs5jw1tAKqRT4esdsAXp9FPD1UFfNJCyJvggR3HhOINwD+UYE8aJvm9nbR3DzHHOZa9qA40w1gr\n",
              "IxtSalVt5i84VwnjduXkIjq0M6UgC36eSNAwDhNDV/kgOYAJgF/Io0bnGC64dxgtNpy0c5Qbo1i3\n",
              "+8t9cXwe8i304pCHQHewLuGNYaj35vyDAp2WlPEp2RBCHyQjhWjn1dzxUBxGoP0EegmhEbCP54HL\n",
              "nkZin6s1QktaGCb02v5eAesCTdJPlnlgh57JWFjvuyzjAehdpkeqhOvzAsZt/AKKE5nX3517tuJy\n",
              "Y42VQWNK7txHIFJu+m8aEheWt/N6eiU7hjHNB3IAAWqDbXwhi3G57ARsfSDQyyPZWi51BegoztB5\n",
              "dnCI7uREnrYEtg44W3M9Ctal3BHuaEpVFwLn5rQqrKum6+C4mAvGTLkNZrbDP/ZTXter2Pk76QRn\n",
              "STcse8JSQOD7MC/iMTcl3nCo4TxdLvRnqAt2PYBvMXDrr3wQjAnXN4HUfm4Tv1etO9dzS6b8nTYH\n",
              "Vcg2Xl2wMpA1+lhZQH6aZAyhzjuLSAJ8LplPv303gXpgzsEz3XqFsBZU7fpyDXPPLqsAclpicdLh\n",
              "qoHfvZFmQfiCi8PVZa7DMzEoTWOAMzHb4gdIvdse3bKlFYYzmoemMnJ/Newr2ZyQgfDycCsb/LQE\n",
              "q27Mo6P5r/pm751xAQoTiynEXFmjl1k2UsRz3z35+e9OmyLTFwohUALwQhiS1Ek7sF28DtmwCzkk\n",
              "bPpJIIezzz5EYs7oFId+xgyVZUW3W5dMZ5LlWEh5BrNuwjFYCSi/yHYqN1g7z7Q36/bQtV9CweOy\n",
              "AHN05Owe4LqcXsJOO/QTGgq+B26JIgSZrz1TGBgpl/Ak2fPR8TBQKyI1FIo9KjcawueP5gFJdzOq\n",
              "+4v2RzSSQwAATcA/QAAAAwAAAwAyIQAAAQJBmiRsQz/+nhAAVHfelPsT+4cAFSeuHdso0Eu5cg0W\n",
              "Lwb35xZq/84k99q2TF3e6qgcbddB+YeFn4mRUsCnVFegC0Id/FV+r0LqTU45CC94CjnJXzUnZGWw\n",
              "bwJIv9FKVkZ2jCEfsIv3FqFPYYyGeTRer7jhBclG6zY2sMbOcgLJCE3Y4N144Ov2ct3g3BW1/ikr\n",
              "5HHSBiRoULe1SP2ClBd7mnpqlzQL/LGkRrgnW4ESoTQA6RzIcYAsfFUIwTlteikOu4AyLpYTtk/y\n",
              "XpQFjxk3Ms4JnojaXArYFyK8sdPdAHVRwNdF2AAMzb64Pghcgmzj1zh6YTySKFzpE5BhI+QUUkAA\n",
              "AACHQZ5CeIR/ABqrVyMnJV3QyIAAnUWvtdIwssFrYF8oee+wt+R6LnJbGNwon7J76zqfEyiHPxs4\n",
              "36nWFuDwRKpoQWazqr7EOYhEsupmyFKM4hp82cPrblCpG+2MF+BQxSgiNSsTEWgc38EmXh8qqM2v\n",
              "bdE6oNvWaBLjtmsx3NSC0wDxH4P2ABdxAAAAYwGeYXRH/wAsXiekXCd1gAma0J0Z53sdUigLcb7r\n",
              "OjM9AALe42e01L3rEt0nS2Q6KqaGn4VujXLHVllUs+aIAj3tGyW4URgtCDWOHILFQMwIHpRY9IFu\n",
              "4MgACzCsAAECasDugAAAAF8BnmNqR/8ALEmfPaAB6o3S/pd3WA0fcJapuZlckrAmRzepTcw0YUht\n",
              "sQmASDh1XbzPqtMA34WAS0bG4FGvuHO3gYr1BGzIvvFBlgNs6IjjPEk2KqJ1wAlU2AACngBIwQAA\n",
              "AIxBmmhJqEFomUwIZ//+nhAAU+HrwiyL+3oADMZXwGEvKgPvMpEBo0AO9dbSCOOxRwhfqFRv7D03\n",
              "WP4GMCOET27J4ecYWS5Ontcfrxy22xczlSxviKUGiBray1bNxsh+pEmyE1P2rkAT3+HWjLAAA02L\n",
              "AoV/nKqrbhAAgI55KAAAAwHZAqfOywDh5ggBZQAAAGFBnoZFESwj/wAa5f1gNQv8cAAQghz1kA5G\n",
              "1FoYGjS33km+e00F9pwo84IPYFcvcVyzDTLQQsEwTJP2KRaK6+fPKhjkeEBhCjxsJ3wDaPdJfMSv\n",
              "1AwG50bXHUQ7KDfAABLxAAAAWwGepXRH/wAsXjYz+8AJpho7/bUrS8w/x2z+uT2oImiQFgP5VvRp\n",
              "LJbt0BKL8e5Rr9ItEdlHoIigjchzyp2V8DuTThAd0qgG4JwWrG+CFGHwQW4AAAMAISAADukAAABm\n",
              "AZ6nakf/ACxj3W+VuBX2vowATrDgwpNSq/iowX5JObYIEde3ASIUQ3Rcutetd2BRu0CsTXdpBnvA\n",
              "fjl+0h/RjCV28fnP3RDNpX+w/kZBwZYGStjjCNgGbMXk5AAAAwA/kJcQAB3QAAAAvkGarEmoQWyZ\n",
              "TAhf//6MsABilZDhSdzCFT2Cbxy6fykUAFgn8wmsGXmAfHJ6DKXMt7wPwvOI23hBUBkMaYy9rIT5\n",
              "P2hD6Ub/wjBd77S5p/5h5XsVuEWZm6RMvlMwrpoYVaMyaG87Lb2H7jzLHa7qD7yKxF1URsVy91lg\n",
              "bNIWSzBpYXSRIz6NNrVcvF1SShqxML0+TaeDtb8TEjvC7s6c/cnAuInZExVboNGEp4QAAgQx4I4B\n",
              "pvGAAALwqqAAXcAAAABmQZ7KRRUsI/8AHw/oxRRozeFmI7aJgBJBc7dgjuhhfwHGDNwQRM6cH4CD\n",
              "gGyzBmFlcpxB8cOyHm04M0P/+MjM7gZgAAADAERwlHrx4QLB1MvwvT580GKHBfTGOVfwqW4DGAFH\n",
              "WgIfAAAAWwGe6XRH/wAyV3RNpNV9YrMAD7WO1oPisQI+Lw0d/L74JtDAtM4n5kmAtjwAFqOKqh28\n",
              "PQ5F4l9pfzdXner0gkNJKjTrwgMKwx5DNdAK02CbAXVbwzABJMgAAgYAAABcAZ7rakf/ACqZw4f6\n",
              "e3lwAmT01MoIszOvx3h8/CBjAP5Aq+5XcZBsr+is+dZiC16zX3O9LX7Gn3IJUN5E1OF5xm9ZfijJ\n",
              "lgZGhLyD1ABchgJLRXVsbjAD2gAALKAAAACCQZrvSahBbJlMCGf//p4QAFPfczQ4qGAwOIAKkPra\n",
              "WK8CcT7L150VEBVrRNL9pKWVsonSPOy0fov4zKJju/HXNEl+65G+KXq6ymGEHbqeKK0U/obYWlH5\n",
              "7H7lxqla9xcgelEHvb0v2ndapVAAAAMASMrzAvAy754JBriZlAAAAwBswQAAAFJBnw1FFSwj/wAb\n",
              "GHWAEC2zHb+l+FNu0YqVZGvHX58zHVU9QqoHFMDh0bizi/BWIRUV1c8sy4UX/eKVQGRPGigAK9GA\n",
              "jg5atAH2/Hi0AAcAIAtpAAAAYwGfLmpH/wAqupjSS70FGAAfztH9VSC0RYVL7rYs8vg79cA7RrNP\n",
              "Snds6eONbn11upxKHqrF7dkVxfnBfc147IaXQi74HiTEQKNlw4utTLAyKnn9ABO/YFZOvuWd9AAA\n",
              "AwBRQQAAAGtBmzNJqEFsmUwIX//+jLAAVJ1aB0Dpc12ADDGSmq4SDQjlgkp/4d8+oLUxWZd8lZPg\n",
              "WY+35WBnPntNsItJyRI7zzzy9wDm3ey97VjpY6TyuiuAsxJZxwDtXaNaMsAAAAMADCVLAAADAADP\n",
              "gAAAAF1Bn1FFFSwj/wAaq0D4IislAkuwwANcP04cfggN25pKSrvOjMMyQIpS0hc+CyDtzRTjODEj\n",
              "7lgQ8DNBBqU1MgOrckBXFtqZYGRnu/QAH20wXwIyA5Xd15AAGN/gKmAAAABTAZ9wdEf/ACsGWABd\n",
              "AAEEvl+hEk7s+2ayPk5MswMAIY/tLQUtYToXT5tun49BWhU4IEDtrRBT2hkPMr1LDGed+OKVQGS1\n",
              "EgaAAoQAASP+YAAABvUAAABeAZ9yakf/ACsG3UZOAD60Pr8mHcqZqilLcXJCDsYokHtDqkZrK9K5\n",
              "Rm5fNjsjoao2Cj1ZVwDON887p9TkzR9Jgkga8I5BVV4s3o+KVQGRcjoQALSaAA4oWAAAAwDKgAAA\n",
              "AKRBm3dJqEFsmUwIX//+jLAAV0hzh+9ACL6OwzvzNxhXzwwsCE4KLkugqbCkgUQumuCzHLpYWqbE\n",
              "QHOX/2nfG9wC6sMQFWGkLFm+z5LDmBHBQzDVPhjqfytA5XrMuAPF10en/WqZCGZX3A+3qXvGhujx\n",
              "EbySQ3IsDPSL713XsOs5rw7mVv45SVU+VHl9GcFaCU0Topbu0a0ZYAAAAwAAAwAAAwADpgAAAGVB\n",
              "n5VFFSwj/wAbokdUMzmC2oAA8lLDvXW6OdlStwFmUJy7L+seNPNbr/AP1aC2nU3jowZ+DLTSLbgW\n",
              "AEBHulxcxkFaRZXtM74UKJPXvm8UqgMiZ4nAMvljlkkATKMsMQAC4fwFTQAAAFcBn7R0R/8ALEH2\n",
              "/D+IJPo0WAEtDeIBQij1kWl3yE0iTXxsZTr+WE3EuHfcoTqDKMuTxJX6DnVPKQs5J4Mb7mUIkkp7\n",
              "HFKoFacR1QgAroAAUWRQAAADAgYAAABdAZ+2akf/ACqaA/vc7ioAJwxwoBjJfz6lRNwspZwKghUU\n",
              "VgWcNYFbQUMFkEEcHtbbB9tv8yjp13O8oZaII0NP4N6grk5Dyb9pu18UqgMifC4gATwIABecUAAA\n",
              "AwH/AAAAX0GbuUmoQWyZTBRMM//+nhAAU/jjUAA0azOsLfTLRIDvBxd3odEF6Z8hoqCn7fD9aspz\n",
              "/QmunRiPa+NbBMOfBzo5capYvfHQn18yV7+kdacK0ZYAAAMAAAMAAAMAADphAAAAXQGf2GpH/wAq\n",
              "qRMvcEUgBI3TJMcOVKc5SYehx5QWhhMdQ2FmZtg8YB3tp7FHxd38rAwHMy/gr4+YdzvOV7X15UZs\n",
              "J08ECDRdL+sna+KVQGRNz6QALhBAAAADAAAIuAAAAGdBm91J4QpSZTAhf/6MsABUnTHOZJ8DEywA\n",
              "Y4OH+UwVxh3bWEmHMgOQU5Q/X67qrRqDSgixk4+WjpvugtgeETwspZX0BotEf0Iw+SHpPK6K4CzE\n",
              "lnHAO1do1oywAAADAAADAAADAAHTAAAAX0Gf+0U0TCP/ABqrEWuavT7+WmGABqUaff47zECRqE3s\n",
              "fzEVV/VHIvpMjM3zXEaQvczhAfSY7870qWJ8LqWnxnjY0ojOP9LM4ouKVQGRKt14AIMVwAhSRoe2\n",
              "ACar0D0gAAAAWgGeGnRH/wAqlSnP2xf0qHZkAAZ5NltY+HKrdWCoh/uiqHT6X03NcaIOpKS1qtxw\n",
              "baDYjJft78w9ry9g0jLvAuwVsbhhDHUOJ4QTQUQNAACEgAA7CZAAAAMBtQAAAF8BnhxqR/8AKt+f\n",
              "8eQ4AH/4upbDNkyDw1lzvyfgUKwXW6ueVeeQkw+3setK8jJMHInXMpI8unr4TFhzwiX7G+tm6qfI\n",
              "Zd/XBNTkMO7UywMk25LIAC3gAA0cNAAAAwB3QQAAAKFBmgFJqEFomUwIX//+jLAAV0hKfgALWmAd\n",
              "9dctfcRwszgorUzOK12+XH5EDEToge9hS1aNfpOGd93abjhrAHjNDf5IwqXqU5WcF9W4sDTy5jLw\n",
              "gHh0asDQhLAUskDtHogf73Ywzq8rpUtecQQs/7qItpuUQJDZ8K6o//rqsX0MrfZpSsmGRJTre/qg\n",
              "modNrLJY1qlUAAADAAADAAADAAA6YAAAAGhBnj9FESwj/wAbofalMHMcnXEACcYoTeYfADCf3b08\n",
              "cnn+XwMr2c7bNgVpv+x3wmZ3U9QF5OIJq0DB7RX0LNcBJ9k0Zl5+5GW6BsfijBjuy1pZMsDIvBRo\n",
              "DgMlehyAJlH7+NACfBYG9AAAAFgBnl50R/8ALEKvSAAB5pF6MCjXrdyq8tMrROyaXgmFx8oLH8UB\n",
              "ihjqVawD28ME4cvLm4NceG3r0ooV2qAOnmLcCm4FRdxUywp141J8AGMAADcMAAADAAEfAAAAWgGe\n",
              "QGpH/wArEDj6AAPeiMnDoXvrQ9kqxWCBswzciPVzRCrCWXgDH0KSpcYWexhDtOB8+Q4drELfpQPE\n",
              "GH/XrO3NM5jeqk3uJ4QTO0bqcAFmAAB+QGAAAAMDFgAAAGVBmkNJqEFsmUwUTDP//p4QAFP441AA\n",
              "NGtNhi5kB55Eq9sirlFSLiTPon6TD76MN0ZgnQVGFhAabzNNp3gr7I6JnHnK38Gn7lxqla9xcgel\n",
              "EHvb0v2ndapVAAADAAADAAADAAAOmQAAAFoBnmJqR/8AKqkTL3RJkAE7dpOHVpcbrC4obdk/cgd7\n",
              "wG+wEEGJkgR4SoqV5TtrhMZIPxRvwzqwvrxbedUHefoygulcoLjJViNsmWBkUYoIABwucAAAAwAA\n",
              "BswAAABuQZpnSeEKUmUwIX/+jLAAVJ1aCr7HrdlSABmgwNM4TOpQWlgmE/SxgSymawQiw0Nq7w+P\n",
              "mkbmQB97YxWKwVFJCEVdJpUKdncwhhLB3sve1Y6WOk8rorgLMSWccA7V2jWjLAAAAwAAAwAAAwAA\n",
              "dMEAAABcQZ6FRTRMI/8AGqtASHLgLF1FgAbCbPQRoXBnMweeWdLESp8mXGGiDvy7398j5L4+YZQ8\n",
              "jIYA0wuHc/wcNJR6MKSpuESa1ZZMsDIiikwAD4YMAN/tx8lAA1fQBN0AAABWAZ6kdEf/ACqVU7pn\n",
              "dUh1AAGeRe8AUX5mJN8nvEqzsylp2mP42MRXdvabdtTjCnl14RQnA6utzuivbK5DXhaEG0jbWKVQ\n",
              "GSshVgAAnIAAUVz4AAADAb0AAABcAZ6makf/ACsG3mJjgA+9BDESqLz23NoHrcOVDd19/SkKi3U6\n",
              "w3//fnwumXd3C588Op7y+uORkD2nkfqAybFXDoy5JbZqp5ewsmWBkVYS+ACeDQAND3QAAAMAxYEA\n",
              "AACXQZqrSahBaJlMCF///oywAFd3x8d/xp6AEtQpOL6zRuqBIOuupy3n6a0sYEcnteA/gLXj/tCS\n",
              "K+aa12ukANR/BIUkhzAsbTQZ03V6TcZDM0GwRIxqo0alS9YWnEWdU2jkubksjW3xyaHY19QJbRJc\n",
              "v7BubwLbl43BbJhk3QZkJ9RSC2p6Na/jWqVQAAADAAADAAADAADpgAAAAGNBnslFESwj/wAbohTk\n",
              "bDpgZtgA/nclJ5qHlzLAnvYXj2EOw56gQ0Xo4n1lNqZcPkliWyQwv0tBaRxgJK+oZqNXp8usaLba\n",
              "uBVEoHleKVQGRXuCQIlIiq6gARK2BGwADWKIG9AAAABeAZ7odEf/ACxRfVncAT8sAJRb5Q5EEt7Y\n",
              "941qO0lQ9Ow9e7iZV1pqqt6vpmBtcFHArgsO60xRyBFsDEZERhqZJOksLMPpUsV4MWiB4QLAwCuE\n",
              "ACAgAA8aKAAAAwCHgQAAAFoBnupqR/8AKw3teAADwuPmyywvbiRwc7DO6j4DACqqQvOEdwIMB6oi\n",
              "NwaxhNOW5EWbYpswhDg6qw/YDC5SwrOKqpwg4w51xSqAyTeWqgAOoAAFpNAAAAMAJmAAAABkQZrt\n",
              "SahBbJlMFEwz//6eEABT3UsVOIBW6AAaNnEjF/vF+vfdWOfiHv8RnbhHl6eVcPY9mKmLVarMbqtt\n",
              "taeOzxeYc+DnRy41Sxe+OhPr5kr39I604VoywAAAAwAAAwAAAwAHTAAAAF0BnwxqR/8AKqkTL3RJ\n",
              "kAE7dpD0052FTHLDLC2/uDnmRCX0kylU7tnioqX/mEm45sYgGa1+NyZLjIYHSi86oO8/RlBdK5QX\n",
              "GSrEbZMsDIoxQQADhc4AAAMAAAMA2YEAAABsQZsRSeEKUmUwIZ/+nhAAU93tSnKq/QCABXdGHgoF\n",
              "CqlE0C+DLA9cFnM8Yuq25EgK0cRrnjAdEP6GDfEsEPLpcHudN5LXsTOEIlb+DSRy41Ste4uQPSiD\n",
              "3t6X7TutUqgAAAMAAAMAAAMAAHTBAAAAW0GfL0U0TCP/ABqrEWuauqshdhgAbD0gWm/22QnqPl/P\n",
              "UWteYojo9/E1k+97fejNdZ5SMhrA4Nj2oDaA6j0cvUmmdpKJDRkywMiRZfAAJEZAAqs+ISaAEejg\n",
              "IOEAAABaAZ9OdEf/ACqVU8P9rMhuKgAgAoKEcIunfVYRMbM5huzFDtKy3ELoLUqNK2Zjygf4e2Uu\n",
              "cMTnXlm1sQlcBnI3s3osi4nExxSqAyVyqmAAGMAAB+UKAAADADAgAAAAWwGfUGpH/wAq5ZE5tVAA\n",
              "/tPr2oTiC2dE86AWfYuvQTgaCCvH1BcT///QPoakqNcmZdFVect2/4yIeo4P/xRwWQJyWopXM4Zk\n",
              "MmWBkqFu6wAO+AAFpbgAAAMAMWAAAAC3QZtVSahBaJlMCGf//p4QAFa33z6IpB/EAF0G8FpCpW7Q\n",
              "nuvl+dpG6hKg41rQifKsYnPKH5ed26B01LLaYiVlKP4jcTIW51P8WjlUBGZRTrnxhXr92FM42ID7\n",
              "RDnT3kO9uuvJHOJ6sentrxe7fe4DT8V973y/scIZ1fNzDYzCKeaIempiF5GZyFG4sKYkJPeS25tS\n",
              "nPENxaW7gfKlJ4AdUB7pO5v4Hw4VoywAAAMAAAMAAAMAAHTBAAAAZkGfc0URLCP/ABuh9qUzeYis\n",
              "oIATLFCbaZlDm+7oh69XVHrX240pacjayFd2amPxVTvixPtcyas4AE0Kj0Flt2leHSJ+5GW6Bsfi\n",
              "jBjuy1pZMsDIvBRoDgMlehyAJlH7+NACfBYG9AAAAFsBn5J0R/8ALEH2ieEAPAAH4fzz9aFRX+gx\n",
              "u/d//7EU+ouRzPjG4550SkrUpumDxIbfPwUeP77gznS7xZb0DjLXY4+WDuv+REeECwQPZUwAHvAA\n",
              "DjzYAAADAGVAAAAAVgGflGpH/wArEpnoAA9tTBTGpR/sK7F5KYWRd43MM3iqAWD43p7nch4LK+fQ\n",
              "Acfpblm9YftI/XygNKnBhVyuSti2RO1MsDJO+AlAA9oAAXY7AAADAAmZAAAAZEGbmUmoQWyZTAhn\n",
              "//6eEABT3e82DoT5wAFz8LmneXTTCIRAHlMa5AMHm/kyykV+2wbGT6C4fuJBPlrVoETE2uFI9KPz\n",
              "2GXU1lKw1QpB5NI4zKCe17GtGWAAAAMAAAMAAAMAA6YAAABcQZ+3RRUsI/8AGq9ph+o4Y9sAD26z\n",
              "BfKPGHIiLqIv0IUxL+5avBRm5rCdgZ1EUEg++/zdUXsrl+nnRY9N3yjGiAyBesNlkywMiIjMgQJz\n",
              "lDlAAeQYuC4ADHCwGBEAAABfAZ/WdEf/ACq6WP2HyejAAP52kNoO1KGjWwv7Bn57dshm5z04zOzU\n",
              "4FP7wbvuCLOiXbs8iltlLtla5K4x/9dgNTboBDGs5k8px1qfrJlgZKMQCgABpAAAlfdwAAADA3sA\n",
              "AABfAZ/Yakf/ACrbVKqvfTYIAIg5rtCWI6quvVGXiMECGfx9lIxRSU4RCRUxiDfGOlq8/P3ycZnP\n",
              "zajqwxdfR3Cqu0nTiggQgLxelQ7HxSqAyOB9KAA8V4AD7hMAAAMAN6AAAACcQZvdSahBbJlMCGf/\n",
              "/p4QAFaLPoHyABbvzzkNYx4y15pausaE9WkIaEYOaP95ToAGviFm/V8AluS82z3YWdMdwSbIMmFQ\n",
              "YQ3arjuj3NxF/KtSP3207AmMGrTiqnVsSA7zkgM60WAPTfGqbw64nsKeXrNlj6o+54+UO8xPbYlO\n",
              "q+hHX5vwfFfABxr7lPzWp4QAAAMAAAMAAAMAAGVBAAAAYUGf+0UVLCP/ABupUfP8dTTIUhTxAAlW\n",
              "1+bkx3kfNQWduvfo3ogwrJXi2S7lUUJ7WewA/ny7Ey7NVXTvQXc1z2tZvZqPrziug2X8qcHPilUB\n",
              "kB2RFgAxsIABJa8EiAAAK+AAAABfAZ4adEf/ACsdKzgBB8nMwqjt0Cooox1ksD3CL/trSJmqJ1d1\n",
              "/REmKPAjR99/FKjCI80bmkbM1jnkpgTu4cD5zPB0ohd9n/CpueqOPMyZYGSt5zYAApYAAAMAAAMA\n",
              "BF0AAABZAZ4cakf/ACxJUYt5oAGxXBPc6CUmuVUDNJ5A3/qjFf46vpFfoGNku9PY9GUNRA4PKIXq\n",
              "k4OErCW7y7by5hMoOQ9WdQZmFsMJGWBkZNNCACF7QAAAAwAADKkAAABuQZoBSahBbJlMCGf//p4Q\n",
              "AFQP83b4gAl5r8ngzXFZA+A8CYwwf1vHZoGjSqvaU6Li0aH1mMgUN79cNSVhpxt0kuDUaH1doRxq\n",
              "O6+Gj3gc+DTry41Ste4uQPSiD3uJUfkKnsAAAAMAAAMAAAMAAVUAAABSQZ4/RRUsI/8AGvfVuHpY\n",
              "AH2wRjAiJ4cDHvfIi+jDvuSgYKCc2/IPDephLw9jsodydZ4YU8bxgf8hD27MVQGDrqCIGDZ55XwA\n",
              "JEaWTKgBQo4CpgAAAFUBnl50R/8AKyd8bAA/mQnU2JlAFFwmhIUwLC0sSxienDMg8/L1TRM5q8+4\n",
              "LktiH13GA+deWMoaesWVInL8D73k+0xVAYWFCoAAFCAACXd5AAADADahAAAAYAGeQGpH/wAqqRRS\n",
              "nBfOACau0h6ac7Cpjli7C2InwtCUcxJezoicVkGc4Kj6/wS8vpG3oUOH5G/G1R7wmMg/3DLpxq3A\n",
              "f9VtovAl1+yzl+ECmW2UIAC0TAAVVqAAAAMBaQAAAGhBmkVJqEFsmUwIX//+jLAAVJ6OH6p/ZO3Y\n",
              "AMfJVOzIVPywHC+KYsMqORE+jPzg6cPltuI3yTXszXMiGUsj54cLt/ONO1j/8ePvaUOSHpPK6K4C\n",
              "zElnHHqLj1T2AAADAAADAAADAAAKqQAAAFpBnmNFFSwj/wAaqxFrKVSNvrIYAGw9JpfaHNkMfTEf\n",
              "h7s3wrS5UjisK7vU2PFaGAQJAIjIfGOFS+QEn46yZwpOqNa4S+keECmkFeAACqp8AI0e9QgAAlTP\n",
              "A9IAAABWAZ6CdEf/ACrfOmQXzIAIgVSJyiANFzacAfCY9snnkUD5zCsNpabwKuBmwoh3CJxVgP1r\n",
              "iE0OukUneUpbTxrGWW0qTgywVoCdmwAC+AABK9QAAAMABq0AAABeAZ6Eakf/ACrliPOY4AP9ItuZ\n",
              "iHGFwKnybkXEDIouXAsxYMbZwM1Okr3kpSnzdPN4qbyW2r3MPtwMXTd0wfO4OW7tjRzDY99yOo+N\n",
              "48IJHWd+UAD9AABaTAAAAwADFwAAAKZBmolJqEFsmUwIX//+jLAAV3fHPvvfJ6AHGMKEysutcyf/\n",
              "/5WjuVsi0ruEKsZwLtZNArpYxPFbRLPzGWW2RWjMVMaDF1lgOcZRGZ8oe+PvIE1PINqF78FIlUou\n",
              "6TaFAZrVmF8kElMVbWblp4CdA+0lOK5+hONxZh/druEjQDnysU1uf7Tgc43BbIFj5QxRiUCW/OuP\n",
              "WQOFaFYAAAMAAAMAAAMAADehAAAAY0Gep0UVLCP/ABuiFIbqBnDx7bQAmruSk81Dy4m+TUDfGuAh\n",
              "6I3XvZyaGF+O8nKDExywgZXNA41AZAwx91ONQ68fkljxbbT/snKqHGTLAyIjDYA2uwuWFwBKoAYq\n",
              "jggBfdiCXwAAAF4BnsZ0R/8ALFFo98LS3QASnQGieEvGPkkgmAHK7UqgnUZxd3X3F3nkh46SRblh\n",
              "HVPafyFHWKg7kpTofrlEEymK/qv0K48DYkx/axKeEE0ICbWABfAAA6D4AAADAB6wAAAAWAGeyGpH\n",
              "/wAq0qidAAB5rhFzBlvreCN+4H29Ku/8lbHvKSfGsJX+Fjv0whYiCmEP1jI1PMRn7QqZKm8eanUi\n",
              "tq+bwLIxNPCCZ0SGzABjAAAbdtAAAAMA7oAAAABtQZrLSahBbJlMFEwz//6eEABUHQdrgANF+PdV\n",
              "xk4Iu69IR4yZZ8J6gwE5Lpth1Tpa0FgiMk6bb+/DXgdg6hROWvXxqkBF2WM0kz0o/PYocuNUrXuL\n",
              "kD0og97el+07rVKoAAADAAADAAADAAB0wQAAAFwBnupqR/8AKqkTL3RJkAE6wiXNBTfO1+mrGfCu\n",
              "rsMke2IGOX3qBqDTYlwrxSYhziujvWdh62lnmIY/Ykfmo1kgXYkKZszJEOL37pp4QTKaphAAXmBA\n",
              "AAADAAAaEAAAAG9Bmu9J4QpSZTAhn/6eEABT3eZAfNYfB4gAl6lMOKhUyO8IoYho66peZ1nDNWeK\n",
              "v+FCs2N6c/VmqiTxm/Aq3cu0XrXrtNkhfSCtZOuuVv4NOvLjVK17i5A9KIPe3pftO61SqAAAAwAA\n",
              "AwAAAwAAdMAAAABdQZ8NRTRMI/8AGqsRZnhxZU1fg8AAhf6qkwEF8RU7Z3BTJ6zFNzzFFytRSCbT\n",
              "ghm8yCj4ANotemfPIMUSB3zBbWbpG2bABmUywWrk3IAAfbVABodYIuy1gA6t2BHxAAAAWgGfLHRH\n",
              "/wAqlVOthL/LugAzpNmKXDoxLNI0alcEsr9rTYDl9aFAZ5Dga6TWCvR2RzVOWFVh5h+/4uFMYzo1\n",
              "yxYh1lkmHe9xPCCZ4VSigAUIAAKKrQAAAwAM+QAAAGABny5qR/8AKwbdRk4APzAe9O6am6q7S+oJ\n",
              "xZbGrpgJoB8jAFO/FXb/358NLzYPtnMP3WnJLLdZzPYedweusfp/6bBenVCg1U1NXw+x2KVQGRRw\n",
              "SgAHXqAAkSYAAAMACikAAACsQZszSahBaJlMCF///oywAFdLb8xzgALZ6hjfiDt/1DWdI/cfX4js\n",
              "Qso7NOVDrJvK3Jl3n1wsZdVZREywRi5z+6sg7pYE6Sc38Tfuryk3r3vFHAmtW+vsUNJFgYD+Isl3\n",
              "2qth++qZRH2OBQhIb6JFGUI4HYjF8lNpGxuBox/IQhs5sNmyCjlWS4/Sj8clJ4OUV4Sazg7Uesjt\n",
              "Tbaca1SqAAADAAADAAADAAAdMAAAAGhBn1FFESwj/wAbofIzKC2IcuBEACcYqGgjptw2f3E93Jq7\n",
              "CcEmDdJlRTVrgeURseYyJ5cCZA3PaE3MW8+AvgJEmVt7YhciLeOvN0SBJGKd8XilUBkThQCB5ffg\n",
              "TEADske+yAAav5A3oAAAAGABn3B0R/8ALEJZbFvu0AD1wRWz9e+GhZHNWsFyERn8/HQQz6lDn9l7\n",
              "Q2afG81aOufRuZqo7oEHyDg/AY+zzHMc9pv+YF36Ty1bv9u+/ZMsFaW8HrABmgAAoroAAAMABq0A\n",
              "AABaAZ9yakf/ACqZ1YvxUAEyHWupoXYz77ARFxaxF3yf/aZc+/kgfhWI6m2XPmp4Rp24XTSpHnij\n",
              "D4wLTNFZZvnpZrA6zMTYbmYpVAZIE6yYAKEAADRkwAAAAwGLAAAAZkGbd0moQWyZTAhf//6MsABU\n",
              "mWDzHLorQAZdqqajJGB9tiP+o1xoMvOqUqssc8t44o4eWOSRDoY7MnwGhEw/0zFZ00A72XvaUOSH\n",
              "pPK6K4CzElnHAO1do1oywAAAAwAAAwAAAwAHTAAAAFxBn5VFFSwj/wAarF/U/q+4DAA92K1kyPft\n",
              "EH+XAtlsNWHpHQZsPnJF73MuF0BL0x1R83WBkspeeBdixzl88wAc8qYGyZZMsDIj22QDwcfEkeAF\n",
              "rnrr0AA0QaBswQAAAGoBn7R0R/8AKrpY/YfJ6MAA/naQ2g7UoaNbC/NwaQuUa5FYNioo/3GdeaLe\n",
              "tSbLGZNztkAQeKKlLRXGcnUB7ApiBLQJbpd0qtDnGKVCckW/C6dBP/3Z4mnhBM/2t6oAOCAAGQAE\n",
              "AAADAKKAAAAAYAGftmpH/wAqk5nCQwmJUAEACf1uWJeiCQME12LNWQSgIi6TUzKGJ3E16a1dmcJL\n",
              "QWTRv6n1/J64xUORC4f0KUmXjOuzP6m+brOBwcHE8IJnRRAUAEZAABj1fAAAAwDjgQAAAJ9Bm7tJ\n",
              "qEFsmUwIX//+jLAAVtlw+aCwAGjPCV8a4ECxicDWF1gvCvZ6OD/NeS65gXqQg13OlcGRWrD2VKDL\n",
              "Ec9TD1RPRmAdbTBYJpT+BQMMMKhM0t0NnxiuzxIHDMawBs98/3IFPn41Pw3W8Bmq17wpDRCM+ulj\n",
              "hWwqPJTP0o+NuAaWUtVTxGSIKQ2AvZqrdGtGWAAAAwAAAwAAAwAA6YEAAABkQZ/ZRRUsI/8AG6lR\n",
              "+2U5ynYeKc6XoAA+Ba9caeZCvDLJWjNty1b/JBzFzZlypMJWEJ/e9oWtl43M3VAs19yu2c4AT6VH\n",
              "KOHxp12AVaA0m4pVAZKTnaoAJ0JAAOaJIAGwvkC2gAAAAGEBn/h0R/8AKu668pfhUAEAuRTpIfQi\n",
              "XZbQaVJ9HjjAYrpI7WfrKbyqug00WRkedkrdEATTAnOA6TuNrqUYf/krVaP+DDAQr0zA6JBVaLJJ\n",
              "p4QTPzyGAADaAAADAAADAAGVAAAAWwGf+mpH/wAsSNs0XPoAGqGgrxP/RfVfKflbci3DT08qf3ME\n",
              "vP82vFe4mPs4a3fStrxaCG+LkC+PrlycJEQvgOCBDWgUlbLVqat2oywWtaVHAAnhYAAAAwAABbQA\n",
              "AABpQZv/SahBbJlMCFf//jhAAUZICc7eJfABtGYkiBNq6gQlH/skoYhxWgVjfHds8icT4ebdQZkX\n",
              "aPjBixKWlLrWIWGbfcY6wXum+py+5Iek+rsbxLt3XswALHfe1SqAAAADAAADAAADAAdNAAAAVUGe\n",
              "HUUVLCP/ABqvl5RJ4L+AAJuwAL/sphkHkSkLQiFRTDSxiCSBC8yoIb1m68wBj2owSuxycXmWPEFk\n",
              "S/vYtTLAyIco4A2tiN/tQBInATuAALPpAVMAAABZAZ48dEf/ACqDhK07jXJLwASqYXAWhFTXMn0m\n",
              "kvnuWL3Vrg3D64xjt1sEx4x7nxwlqumftQcQnX9951tstLS29St7oLbaxSqBbCx9wAAO+AAG3ygA\n",
              "AAMAJmAAAABeAZ4+akf/ACsVTe3pCxWZABO3aQ9NNw0kO69AD2QPbDaZFp96LPhIlfZ7/9VUj8JR\n",
              "zrdrpClWAQ+IVSbYDc7KHOHLXi12sy0Mu6ZNPCCZU+jAAEDbgAfbeAAAAwBRQAAAAFtBmiNJqEFs\n",
              "mUwI//yEABNEsQISoAq+gADTrNunoo0pfAiuO9QXK8RU6dOFBbgfG3OcCGqey13RVivT172L7g4r\n",
              "MyHizzXhTx1TE9yeqmWAAAADAAADAAADAAdNAAAAXUGeQUUVLCP/ABqrEWspVI2+shgAbDxLy7dB\n",
              "uDMTuWpXcE7KO8ggP734AvnlO4an1zQ3V48DbYlW/hyMKKQAyFenPHRdsY3MFMsFrVDeAAJUwAAq\n",
              "sW1D9ACVSUDjgAAAAFwBnmB0R/8AKpVTw/1QdHYqACACg1FS1vRcbeOKG+3f4HvqhuMS7Yi061qh\n",
              "iwSjLIyAkDePdJhHddWrIR7h69rwdmzWQo52+fuJ4QTP7wdqACeAABRY+AAAAwCvgQAAAGEBnmJq\n",
              "R/8AKuWRObVQAQTrJcaj5hfwyWowrHJ25/vTRcQaLLzksWJ0GA35gBdcFMuLqmVq8F8UD1udJVoC\n",
              "q1gNbypu0M0/f3t8uXhvjB4mnhBM9Q/pAAKoAADmiuAAAAccAAAH121vb3YAAABsbXZoZAAAAAAA\n",
              "AAAAAAAAAAAAA+gAAAfQAAEAAAEAAAAAAAAAAAAAAAABAAAAAAAAAAAAAAAAAAAAAQAAAAAAAAAA\n",
              "AAAAAAAAQAAAAAAAAAAAAAAAAAAAAAAAAAAAAAAAAAAAAAAAAAIAAAcBdHJhawAAAFx0a2hkAAAA\n",
              "AwAAAAAAAAAAAAAAAQAAAAAAAAfQAAAAAAAAAAAAAAAAAAAAAAABAAAAAAAAAAAAAAAAAAAAAQAA\n",
              "AAAAAAAAAAAAAAAAQAAAAASwAAAB9AAAAAAAJGVkdHMAAAAcZWxzdAAAAAAAAAABAAAH0AAAAgAA\n",
              "AQAAAAAGeW1kaWEAAAAgbWRoZAAAAAAAAAAAAAAAAAAAMgAAAGQAVcQAAAAAAC1oZGxyAAAAAAAA\n",
              "AAB2aWRlAAAAAAAAAAAAAAAAVmlkZW9IYW5kbGVyAAAABiRtaW5mAAAAFHZtaGQAAAABAAAAAAAA\n",
              "AAAAAAAkZGluZgAAABxkcmVmAAAAAAAAAAEAAAAMdXJsIAAAAAEAAAXkc3RibAAAALRzdHNkAAAA\n",
              "AAAAAAEAAACkYXZjMQAAAAAAAAABAAAAAAAAAAAAAAAAAAAAAASwAfQASAAAAEgAAAAAAAAAAQAA\n",
              "AAAAAAAAAAAAAAAAAAAAAAAAAAAAAAAAAAAAAAAAABj//wAAADJhdmNDAWQAIP/hABlnZAAgrNlA\n",
              "SwQfnhAAAAMAEAAABkDxgxlgAQAGaOvjyyLAAAAAHHV1aWRraEDyXyRPxbo5pRvPAyPzAAAAAAAA\n",
              "ABhzdHRzAAAAAAAAAAEAAABkAAABAAAAABRzdHNzAAAAAAAAAAEAAAABAAADKGN0dHMAAAAAAAAA\n",
              "YwAAAAEAAAIAAAAAAQAABQAAAAABAAACAAAAAAEAAAAAAAAAAQAAAQAAAAABAAAFAAAAAAEAAAIA\n",
              "AAAAAQAAAAAAAAABAAABAAAAAAEAAAUAAAAAAQAAAgAAAAABAAAAAAAAAAEAAAEAAAAAAQAABAAA\n",
              "AAACAAABAAAAAAEAAAUAAAAAAQAAAgAAAAABAAAAAAAAAAEAAAEAAAAAAQAABQAAAAABAAACAAAA\n",
              "AAEAAAAAAAAAAQAAAQAAAAABAAADAAAAAAEAAAEAAAAAAQAABQAAAAABAAACAAAAAAEAAAAAAAAA\n",
              "AQAAAQAAAAABAAAFAAAAAAEAAAIAAAAAAQAAAAAAAAABAAABAAAAAAEAAAMAAAAAAQAAAQAAAAAB\n",
              "AAAFAAAAAAEAAAIAAAAAAQAAAAAAAAABAAABAAAAAAEAAAUAAAAAAQAAAgAAAAABAAAAAAAAAAEA\n",
              "AAEAAAAAAQAAAwAAAAABAAABAAAAAAEAAAUAAAAAAQAAAgAAAAABAAAAAAAAAAEAAAEAAAAAAQAA\n",
              "BQAAAAABAAACAAAAAAEAAAAAAAAAAQAAAQAAAAABAAAFAAAAAAEAAAIAAAAAAQAAAAAAAAABAAAB\n",
              "AAAAAAEAAAUAAAAAAQAAAgAAAAABAAAAAAAAAAEAAAEAAAAAAQAABQAAAAABAAACAAAAAAEAAAAA\n",
              "AAAAAQAAAQAAAAABAAAFAAAAAAEAAAIAAAAAAQAAAAAAAAABAAABAAAAAAEAAAUAAAAAAQAAAgAA\n",
              "AAABAAAAAAAAAAEAAAEAAAAAAQAAAwAAAAABAAABAAAAAAEAAAUAAAAAAQAAAgAAAAABAAAAAAAA\n",
              "AAEAAAEAAAAAAQAABQAAAAABAAACAAAAAAEAAAAAAAAAAQAAAQAAAAABAAAFAAAAAAEAAAIAAAAA\n",
              "AQAAAAAAAAABAAABAAAAAAEAAAUAAAAAAQAAAgAAAAABAAAAAAAAAAEAAAEAAAAAAQAABQAAAAAB\n",
              "AAACAAAAAAEAAAAAAAAAAQAAAQAAAAABAAAFAAAAAAEAAAIAAAAAAQAAAAAAAAABAAABAAAAABxz\n",
              "dHNjAAAAAAAAAAEAAAABAAAAZAAAAAEAAAGkc3RzegAAAAAAAAAAAAAAZAAALnMAAAEGAAAAiwAA\n",
              "AGcAAABjAAAAkAAAAGUAAABfAAAAagAAAMIAAABqAAAAXwAAAGAAAACGAAAAVgAAAGcAAABvAAAA\n",
              "YQAAAFcAAABiAAAAqAAAAGkAAABbAAAAYQAAAGMAAABhAAAAawAAAGMAAABeAAAAYwAAAKUAAABs\n",
              "AAAAXAAAAF4AAABpAAAAXgAAAHIAAABgAAAAWgAAAGAAAACbAAAAZwAAAGIAAABeAAAAaAAAAGEA\n",
              "AABwAAAAXwAAAF4AAABfAAAAuwAAAGoAAABfAAAAWgAAAGgAAABgAAAAYwAAAGMAAACgAAAAZQAA\n",
              "AGMAAABdAAAAcgAAAFYAAABZAAAAZAAAAGwAAABeAAAAWgAAAGIAAACqAAAAZwAAAGIAAABcAAAA\n",
              "cQAAAGAAAABzAAAAYQAAAF4AAABkAAAAsAAAAGwAAABkAAAAXgAAAGoAAABgAAAAbgAAAGQAAACj\n",
              "AAAAaAAAAGUAAABfAAAAbQAAAFkAAABdAAAAYgAAAF8AAABhAAAAYAAAAGUAAAAUc3RjbwAAAAAA\n",
              "AAABAAAALAAAAGJ1ZHRhAAAAWm1ldGEAAAAAAAAAIWhkbHIAAAAAAAAAAG1kaXJhcHBsAAAAAAAA\n",
              "AAAAAAAALWlsc3QAAAAlqXRvbwAAAB1kYXRhAAAAAQAAAABMYXZmNTguMjkuMTAw\n",
              "\">\n",
              "  Your browser does not support the video tag.\n",
              "</video>"
            ]
          },
          "metadata": {},
          "execution_count": 94
        }
      ]
    },
    {
      "cell_type": "markdown",
      "source": [
        "#####Como se puede ver la grafica no cambia aun cuando se esta haciendo una animacion frame por frame ya que no pude encontrar la manera de actualizar los valores para los parametros automaticamente al momento de llamar la funcion de animacion. intente poner la incializacion de la clase lambdacdm1 y los parametros dentro de la funcion,pero no tuve excito."
      ],
      "metadata": {
        "id": "tVyojuNu0Suc"
      }
    },
    {
      "cell_type": "markdown",
      "source": [
        "***Espectro de potencias de Materia***\n"
      ],
      "metadata": {
        "id": "5ANYZYXXBl-I"
      }
    },
    {
      "cell_type": "code",
      "source": [
        "# get P(k) at redhsift z=0\n",
        "import numpy as np\n",
        "kk = np.logspace(-4,np.log10(3),1000) # k in h/Mpc\n",
        "Pk = [] # P(k) in (Mpc/h)**3\n",
        "h = LambdaCDM.h() # get reduced Hubble for conversions to 1/Mpc\n",
        "for k in kk:\n",
        "    Pk.append(LambdaCDM.pk(k*h,0.)*h**3) # function .pk(k,z)"
      ],
      "metadata": {
        "id": "59Q2AnrXBUdX"
      },
      "execution_count": 232,
      "outputs": []
    },
    {
      "cell_type": "markdown",
      "source": [
        "#Se asignan los datos de archivos txt del espectro de potencias a dos data frames distintos \n",
        "\n"
      ],
      "metadata": {
        "id": "JQ50MjHD687P"
      }
    },
    {
      "cell_type": "code",
      "source": [
        "pk_data = np.loadtxt(\"/content/pk_data\").T\n",
        "pk_data_cmb = np.loadtxt(\"/content/pk_data_cmb\").T"
      ],
      "metadata": {
        "id": "74E9RVppCT-d"
      },
      "execution_count": 233,
      "outputs": []
    },
    {
      "cell_type": "markdown",
      "source": [
        "#Se grafican los data frames y se comparan"
      ],
      "metadata": {
        "id": "KSQOFRmM7Qk6"
      }
    },
    {
      "cell_type": "code",
      "source": [
        "#plot P(k)\n",
        "plt.figure(2)\n",
        "plt.xscale('log');plt.yscale('log'); plt.xlim(kk[0],kk[-1])\n",
        "plt.xlabel(r'$k \\,\\,\\,\\, [h/\\mathrm{Mpc}]$')\n",
        "plt.ylabel(r'$P(k) \\,\\,\\,\\, [\\mathrm{Mpc}/h]^3$')\n",
        "plt.plot(kk,Pk,'b-')\n",
        "plt.scatter(pk_data[0],pk_data[1])\n",
        "plt.scatter(pk_data_cmb[0],pk_data_cmb[1])\n",
        "\n",
        "  "
      ],
      "metadata": {
        "colab": {
          "base_uri": "https://localhost:8080/",
          "height": 475
        },
        "id": "ztVk0sw1C3sD",
        "outputId": "a4b09c96-4964-40c0-b589-be52ffafab09"
      },
      "execution_count": 234,
      "outputs": [
        {
          "output_type": "execute_result",
          "data": {
            "text/plain": [
              "<matplotlib.collections.PathCollection at 0x7fe1cafb5cd0>"
            ]
          },
          "metadata": {},
          "execution_count": 234
        },
        {
          "output_type": "display_data",
          "data": {
            "text/plain": [
              "<Figure size 640x480 with 1 Axes>"
            ],
            "image/png": "[encoded data removed]"
          },
          "metadata": {}
        }
      ]
    },
    {
      "cell_type": "markdown",
      "source": [
        "#Se hace un ajuste a los resultados "
      ],
      "metadata": {
        "id": "vx7dnRJ87XMw"
      }
    },
    {
      "cell_type": "code",
      "source": [
        "# plot P(k)\n",
        "plt.figure(2)\n",
        "plt.xscale('log');plt.yscale('log');plt.xlim(kk[0],kk[-1])\n",
        "plt.xlabel(r'$k \\,\\,\\,\\, [h/\\mathrm{Mpc}]$')\n",
        "plt.ylabel(r'$P(k) \\,\\,\\,\\, [\\mathrm{Mpc}/h]^3$')\n",
        "plt.plot(kk,Pk,'b-')\n",
        "plt.errorbar(pk_data[0],pk_data[1],pk_data[2],fmt='.')\n",
        "plt.errorbar(pk_data_cmb[0],pk_data_cmb[1],yerr=pk_data_cmb[2]-pk_data_cmb[1],fmt='.')\n",
        "plt.ylim(5e2,3e4)\n",
        "plt.xlim(3e-3,1)"
      ],
      "metadata": {
        "colab": {
          "base_uri": "https://localhost:8080/",
          "height": 475
        },
        "id": "aw3EszmZHkTq",
        "outputId": "f85b96b3-316e-41ca-debc-70d485722d04"
      },
      "execution_count": 235,
      "outputs": [
        {
          "output_type": "execute_result",
          "data": {
            "text/plain": [
              "(0.003, 1)"
            ]
          },
          "metadata": {},
          "execution_count": 235
        },
        {
          "output_type": "display_data",
          "data": {
            "text/plain": [
              "<Figure size 640x480 with 1 Axes>"
            ],
            "image/png": "[encoded data removed]"
          },
          "metadata": {}
        }
      ]
    },
    {
      "cell_type": "code",
      "source": [],
      "metadata": {
        "id": "NFvKBeDxz3LA"
      },
      "execution_count": null,
      "outputs": []
    }
  ],
  "metadata": {
    "colab": {
      "provenance": [],
      "authorship_tag": "ABX9TyPpDTV7aKPiSffGVZolnGZQ",
      "include_colab_link": true
    },
    "kernelspec": {
      "display_name": "Python 3",
      "name": "python3"
    },
    "language_info": {
      "name": "python"
    }
  },
  "nbformat": 4,
  "nbformat_minor": 0
}